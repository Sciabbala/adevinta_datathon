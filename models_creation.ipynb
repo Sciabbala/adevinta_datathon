{
 "cells": [
  {
   "cell_type": "code",
   "execution_count": 241,
   "metadata": {},
   "outputs": [],
   "source": [
    "import pandas as pd\n",
    "import numpy as np\n",
    "from sklearn.ensemble import RandomForestClassifier\n",
    "from sklearn.metrics import f1_score\n",
    "from sklearn.model_selection import train_test_split\n",
    "from sklearn.model_selection import GridSearchCV\n",
    "from sklearn.model_selection import KFold\n",
    "from sklearn.preprocessing import Normalizer\n",
    "from sklearn.neighbors import KNeighborsClassifier"
   ]
  },
  {
   "cell_type": "code",
   "execution_count": 197,
   "metadata": {},
   "outputs": [],
   "source": [
    "df_train = pd.read_csv('./data/initial_feature_selection.csv', index_col=0)"
   ]
  },
  {
   "cell_type": "code",
   "execution_count": 198,
   "metadata": {},
   "outputs": [],
   "source": [
    "df_test = pd.read_csv('./data/test_set.csv', index_col=0)"
   ]
  },
  {
   "cell_type": "code",
   "execution_count": 199,
   "metadata": {},
   "outputs": [
    {
     "data": {
      "text/plain": [
       "Index(['date', 'cookie_id', 'visit_number', 'user_id', 'device_Mobile_Phone',\n",
       "       'channel_Display', 'channel_Email', 'channel_Push_Notifications',\n",
       "       'entry_page_account_dashboard', 'entry_page_alert_results',\n",
       "       ...\n",
       "       'page_views_search_filter_car_places', 'page_views_search_filter_color',\n",
       "       'page_views_search_filter_fuel',\n",
       "       'page_views_search_filter_region_level2',\n",
       "       'page_views_search_filter_transmission',\n",
       "       'page_views_search_filter_user_role_id',\n",
       "       'page_views_search_filter_version',\n",
       "       'page_views_send_buyer_phone_to_seller', 'label', 'confidence'],\n",
       "      dtype='object', length=135)"
      ]
     },
     "execution_count": 199,
     "metadata": {},
     "output_type": "execute_result"
    }
   ],
   "source": [
    "df_train.columns"
   ]
  },
  {
   "cell_type": "code",
   "execution_count": 200,
   "metadata": {},
   "outputs": [
    {
     "data": {
      "text/plain": [
       "Index(['device_Mobile_Phone', 'device_Television', 'channel_Display',\n",
       "       'channel_Email', 'channel_Paid_Search', 'channel_Push_Notifications',\n",
       "       'entry_page_account_dashboard', 'entry_page_ad_deletion_confirmation',\n",
       "       'entry_page_ad_deletion_form', 'entry_page_ad_insertion_add_photo',\n",
       "       ...\n",
       "       'page_views_search_filter_car_places', 'page_views_search_filter_color',\n",
       "       'page_views_search_filter_fuel',\n",
       "       'page_views_search_filter_region_level2',\n",
       "       'page_views_search_filter_transmission',\n",
       "       'page_views_search_filter_user_role_id',\n",
       "       'page_views_search_filter_version',\n",
       "       'page_views_send_buyer_phone_to_seller',\n",
       "       'page_views_send_buyer_phone_to_seller_later',\n",
       "       'page_views_terms_and_conditions'],\n",
       "      dtype='object', length=239)"
      ]
     },
     "execution_count": 200,
     "metadata": {},
     "output_type": "execute_result"
    }
   ],
   "source": [
    "df_test.columns"
   ]
  },
  {
   "cell_type": "markdown",
   "metadata": {},
   "source": [
    "### Dropping confidence and date column"
   ]
  },
  {
   "cell_type": "code",
   "execution_count": 201,
   "metadata": {},
   "outputs": [],
   "source": [
    "df_train.drop(['confidence', 'date'], axis=1, inplace=True)"
   ]
  },
  {
   "cell_type": "markdown",
   "metadata": {},
   "source": [
    "### Dropping columns from df_test so that they match df_train"
   ]
  },
  {
   "cell_type": "code",
   "execution_count": 202,
   "metadata": {},
   "outputs": [
    {
     "data": {
      "text/plain": [
       "Index(['cookie_id', 'label', 'user_id', 'visit_number'], dtype='object')"
      ]
     },
     "execution_count": 202,
     "metadata": {},
     "output_type": "execute_result"
    }
   ],
   "source": [
    "df_train.columns.difference(df_test.columns)"
   ]
  },
  {
   "cell_type": "code",
   "execution_count": 203,
   "metadata": {},
   "outputs": [
    {
     "data": {
      "text/plain": [
       "['Visits_c_detail_save_favorite_top_bar',\n",
       " 'Visits_c_menu_my_ads',\n",
       " 'Visits_c_menu_my_favorites',\n",
       " 'Visits_c_menu_new_search',\n",
       " 'Visits_c_my_ads_no_action_status',\n",
       " 'Visits_c_my_alerts_disable_alert_emails',\n",
       " 'Visits_c_my_alerts_enable_alert_push_notif',\n",
       " 'Visits_c_notifications_configuration_personalized_alerts_email',\n",
       " 'channel_Paid_Search',\n",
       " 'device_Television',\n",
       " 'e2_CallPhone_0',\n",
       " 'entry_page_ad_deletion_confirmation',\n",
       " 'entry_page_ad_deletion_form',\n",
       " 'entry_page_ad_insertion_add_photo',\n",
       " 'entry_page_ad_insertion_brand',\n",
       " 'entry_page_ad_insertion_car_body',\n",
       " 'entry_page_ad_insertion_color',\n",
       " 'entry_page_ad_insertion_confirmation',\n",
       " 'entry_page_ad_insertion_error',\n",
       " 'entry_page_ad_insertion_km',\n",
       " 'entry_page_ad_insertion_model',\n",
       " 'entry_page_ad_insertion_photo_gallery',\n",
       " 'entry_page_ad_insertion_price',\n",
       " 'entry_page_ad_insertion_step1',\n",
       " 'entry_page_ad_insertion_version',\n",
       " 'entry_page_ad_modification_add_photo',\n",
       " 'entry_page_ad_modification_cancel',\n",
       " 'entry_page_ad_modification_car_body',\n",
       " 'entry_page_ad_modification_confirmation',\n",
       " 'entry_page_ad_modification_error',\n",
       " 'entry_page_ad_modification_form',\n",
       " 'entry_page_ad_modification_km',\n",
       " 'entry_page_ad_modification_model',\n",
       " 'entry_page_ad_modification_photo_gallery',\n",
       " 'entry_page_ad_modification_price',\n",
       " 'entry_page_ad_modification_share_vibbo_false',\n",
       " 'entry_page_ad_modification_version',\n",
       " 'entry_page_c_all_pages_complete_register_password_sent_error',\n",
       " 'entry_page_c_detail_call_phone',\n",
       " 'entry_page_c_detail_view_conversation',\n",
       " 'entry_page_c_my_saved_ads_call_phone',\n",
       " 'entry_page_c_my_saved_ads_contact_messaging',\n",
       " 'entry_page_carousel',\n",
       " 'entry_page_carousel_confirmation',\n",
       " 'entry_page_confirmation_email',\n",
       " 'entry_page_detail_car_sold',\n",
       " 'entry_page_edit_my_account',\n",
       " 'entry_page_edit_my_account_confirmation',\n",
       " 'entry_page_edit_my_account_error',\n",
       " 'entry_page_editorial_latest_news',\n",
       " 'entry_page_editorial_newness',\n",
       " 'entry_page_editorial_news',\n",
       " 'entry_page_editorial_search',\n",
       " 'entry_page_editorial_tests',\n",
       " 'entry_page_editorial_videos_detail',\n",
       " 'entry_page_expired_password',\n",
       " 'entry_page_feedback',\n",
       " 'entry_page_form_detail',\n",
       " 'entry_page_form_error',\n",
       " 'entry_page_form_from_cross_contact',\n",
       " 'entry_page_form_from_cross_contact_recommended',\n",
       " 'entry_page_form_remember_pw',\n",
       " 'entry_page_login',\n",
       " 'entry_page_login_confirmation',\n",
       " 'entry_page_login_error',\n",
       " 'entry_page_messaging_sent_email',\n",
       " 'entry_page_notifications_configuration',\n",
       " 'entry_page_onboarding_buyer_benefits',\n",
       " 'entry_page_onboarding_cross_alerts',\n",
       " 'entry_page_onboarding_cross_benefits',\n",
       " 'entry_page_onboarding_cross_chat',\n",
       " 'entry_page_onboarding_cross_sell_your_car',\n",
       " 'entry_page_onboarding_seller_chat',\n",
       " 'entry_page_onboarding_seller_sell_your_car',\n",
       " 'entry_page_pay_ad',\n",
       " 'entry_page_privacy_configuration',\n",
       " 'entry_page_register',\n",
       " 'entry_page_register_confirmation',\n",
       " 'entry_page_register_error',\n",
       " 'entry_page_report_an_announcer',\n",
       " 'entry_page_report_an_announcer_confirmation',\n",
       " 'entry_page_search_filter_car_body',\n",
       " 'entry_page_search_filter_car_doors',\n",
       " 'entry_page_search_filter_car_places',\n",
       " 'entry_page_search_filter_color',\n",
       " 'entry_page_search_filter_fuel',\n",
       " 'entry_page_search_filter_model',\n",
       " 'entry_page_search_filter_region_level2',\n",
       " 'entry_page_search_filter_user_role_id',\n",
       " 'entry_page_send_buyer_phone_to_seller',\n",
       " 'entry_page_send_buyer_phone_to_seller_later',\n",
       " 'entry_page_step_email_sent',\n",
       " 'page_views_ad_modification_add_photo_error',\n",
       " 'page_views_ad_modification_cancel',\n",
       " 'page_views_ad_modification_color',\n",
       " 'page_views_ad_modification_model',\n",
       " 'page_views_ad_modification_transmission',\n",
       " 'page_views_call_phone',\n",
       " 'page_views_carousel_confirmation',\n",
       " 'page_views_edit_my_account_error',\n",
       " 'page_views_editorial_videos_detail',\n",
       " 'page_views_feedback',\n",
       " 'page_views_form_from_cross_contact_call',\n",
       " 'page_views_form_remember_pw_error',\n",
       " 'page_views_my_alerts',\n",
       " 'page_views_my_messaging_inbox',\n",
       " 'page_views_new_pw_confirmation',\n",
       " 'page_views_recommend_your_friends',\n",
       " 'page_views_send_buyer_phone_to_seller_later',\n",
       " 'page_views_terms_and_conditions']"
      ]
     },
     "execution_count": 203,
     "metadata": {},
     "output_type": "execute_result"
    }
   ],
   "source": [
    "df_test.columns.difference(df_train.columns).tolist()"
   ]
  },
  {
   "cell_type": "code",
   "execution_count": 113,
   "metadata": {},
   "outputs": [],
   "source": [
    "df_test_dropped = df_test.drop(df_test.columns.difference(df_train.columns).tolist(), axis=1)"
   ]
  },
  {
   "cell_type": "code",
   "execution_count": 120,
   "metadata": {},
   "outputs": [
    {
     "data": {
      "text/plain": [
       "['cookie_id', 'label', 'user_id', 'visit_number']"
      ]
     },
     "execution_count": 120,
     "metadata": {},
     "output_type": "execute_result"
    }
   ],
   "source": [
    "df_train.columns.difference(df_test_dropped.columns).tolist()"
   ]
  },
  {
   "cell_type": "code",
   "execution_count": 121,
   "metadata": {},
   "outputs": [],
   "source": [
    "df_train_dropped = df_train.drop(['cookie_id', 'user_id', 'visit_number'], axis=1)"
   ]
  },
  {
   "cell_type": "markdown",
   "metadata": {},
   "source": [
    "### Separating train set into X and y"
   ]
  },
  {
   "cell_type": "code",
   "execution_count": 122,
   "metadata": {},
   "outputs": [],
   "source": [
    "X = df_train_dropped.drop('label', axis=1)\n",
    "y = df_train_dropped.label"
   ]
  },
  {
   "cell_type": "markdown",
   "metadata": {},
   "source": [
    "### Using only the train set with a 75:25 balanced split"
   ]
  },
  {
   "cell_type": "code",
   "execution_count": 123,
   "metadata": {},
   "outputs": [],
   "source": [
    "X_train, X_test, y_train, y_test = train_test_split(X, y, test_size=0.25, random_state=42, stratify=y)"
   ]
  },
  {
   "cell_type": "markdown",
   "metadata": {},
   "source": [
    "### Running a grid search for parameter selection for a Random Forest Classifier model"
   ]
  },
  {
   "cell_type": "code",
   "execution_count": 124,
   "metadata": {},
   "outputs": [],
   "source": [
    "param_grid = {\n",
    "    'n_estimators': [150, 300],\n",
    "    'max_features': ['auto', 'sqrt', 'log2']\n",
    "}"
   ]
  },
  {
   "cell_type": "code",
   "execution_count": 125,
   "metadata": {},
   "outputs": [],
   "source": [
    "RFC = RandomForestClassifier(n_jobs=-1)"
   ]
  },
  {
   "cell_type": "code",
   "execution_count": 126,
   "metadata": {},
   "outputs": [],
   "source": [
    "GS = GridSearchCV(RFC, param_grid, cv=5)"
   ]
  },
  {
   "cell_type": "code",
   "execution_count": 127,
   "metadata": {},
   "outputs": [
    {
     "data": {
      "text/plain": [
       "GridSearchCV(cv=5, error_score='raise-deprecating',\n",
       "             estimator=RandomForestClassifier(bootstrap=True, class_weight=None,\n",
       "                                              criterion='gini', max_depth=None,\n",
       "                                              max_features='auto',\n",
       "                                              max_leaf_nodes=None,\n",
       "                                              min_impurity_decrease=0.0,\n",
       "                                              min_impurity_split=None,\n",
       "                                              min_samples_leaf=1,\n",
       "                                              min_samples_split=2,\n",
       "                                              min_weight_fraction_leaf=0.0,\n",
       "                                              n_estimators='warn', n_jobs=-1,\n",
       "                                              oob_score=False,\n",
       "                                              random_state=None, verbose=0,\n",
       "                                              warm_start=False),\n",
       "             iid='warn', n_jobs=None,\n",
       "             param_grid={'max_features': ['auto', 'sqrt', 'log2'],\n",
       "                         'n_estimators': [150, 300]},\n",
       "             pre_dispatch='2*n_jobs', refit=True, return_train_score=False,\n",
       "             scoring=None, verbose=0)"
      ]
     },
     "execution_count": 127,
     "metadata": {},
     "output_type": "execute_result"
    }
   ],
   "source": [
    "GS.fit(X_train, y_train)"
   ]
  },
  {
   "cell_type": "code",
   "execution_count": 128,
   "metadata": {},
   "outputs": [
    {
     "data": {
      "text/plain": [
       "{'max_features': 'auto', 'n_estimators': 150}"
      ]
     },
     "execution_count": 128,
     "metadata": {},
     "output_type": "execute_result"
    }
   ],
   "source": [
    "GS.best_params_"
   ]
  },
  {
   "cell_type": "code",
   "execution_count": 129,
   "metadata": {},
   "outputs": [],
   "source": [
    "RFC = RandomForestClassifier(max_features='auto', n_estimators=150)"
   ]
  },
  {
   "cell_type": "code",
   "execution_count": 130,
   "metadata": {},
   "outputs": [
    {
     "data": {
      "text/plain": [
       "RandomForestClassifier(bootstrap=True, class_weight=None, criterion='gini',\n",
       "                       max_depth=None, max_features='auto', max_leaf_nodes=None,\n",
       "                       min_impurity_decrease=0.0, min_impurity_split=None,\n",
       "                       min_samples_leaf=1, min_samples_split=2,\n",
       "                       min_weight_fraction_leaf=0.0, n_estimators=150,\n",
       "                       n_jobs=None, oob_score=False, random_state=None,\n",
       "                       verbose=0, warm_start=False)"
      ]
     },
     "execution_count": 130,
     "metadata": {},
     "output_type": "execute_result"
    }
   ],
   "source": [
    "RFC.fit(X_train, y_train)"
   ]
  },
  {
   "cell_type": "code",
   "execution_count": 131,
   "metadata": {},
   "outputs": [],
   "source": [
    "y_pred = RFC.predict(X_test)"
   ]
  },
  {
   "cell_type": "code",
   "execution_count": 132,
   "metadata": {},
   "outputs": [
    {
     "data": {
      "text/plain": [
       "0.912"
      ]
     },
     "execution_count": 132,
     "metadata": {},
     "output_type": "execute_result"
    }
   ],
   "source": [
    "RFC.score(X_test, y_test)"
   ]
  },
  {
   "cell_type": "code",
   "execution_count": 139,
   "metadata": {},
   "outputs": [
    {
     "data": {
      "text/plain": [
       "0.9109694717023722"
      ]
     },
     "execution_count": 139,
     "metadata": {},
     "output_type": "execute_result"
    }
   ],
   "source": [
    "f1_score(y_test, y_pred, labels=None, pos_label=1, average='weighted')"
   ]
  },
  {
   "cell_type": "code",
   "execution_count": 153,
   "metadata": {},
   "outputs": [
    {
     "data": {
      "text/plain": [
       "array([2.34626995e-03, 7.99034685e-04, 5.23656841e-03, 2.87767506e-02,\n",
       "       1.26127977e-03, 3.35061891e-02, 1.25741232e-04, 1.23042202e-03,\n",
       "       0.00000000e+00, 6.25892824e-05, 3.56149093e-02, 1.38087838e-04,\n",
       "       1.56957123e-04, 1.61205359e-04, 4.48244472e-02, 1.67400889e-04,\n",
       "       4.83286348e-03, 6.13280271e-04, 8.94668258e-03, 1.46178993e-03,\n",
       "       4.13125252e-04, 1.53857083e-03, 6.63018737e-04, 4.60705779e-05,\n",
       "       1.38626795e-03, 5.74244907e-04, 3.01689709e-04, 2.23194566e-03,\n",
       "       3.63637296e-03, 1.62939245e-04, 1.58675731e-04, 6.35343063e-05,\n",
       "       1.20286011e-01, 2.68009465e-04, 1.35757241e-03, 1.03816895e-03,\n",
       "       2.52804602e-03, 4.56824771e-04, 1.07070014e-04, 9.29905126e-04,\n",
       "       1.13083380e-03, 2.19563353e-04, 5.96414945e-04, 2.27328652e-05,\n",
       "       3.05464808e-04, 1.55090949e-04, 1.16152606e-04, 7.25910081e-04,\n",
       "       5.39846948e-05, 3.70687797e-04, 2.86206678e-04, 5.33662454e-03,\n",
       "       4.29248177e-04, 1.74014357e-03, 7.02895011e-05, 3.22465873e-04,\n",
       "       2.08796341e-03, 8.77534816e-02, 9.55973214e-04, 8.52698410e-03,\n",
       "       1.36209664e-03, 6.90785013e-05, 1.26972995e-03, 3.62796011e-04,\n",
       "       5.25081532e-05, 1.33532529e-03, 4.52737898e-04, 7.98384083e-04,\n",
       "       4.87372394e-04, 9.37021446e-04, 0.00000000e+00, 1.31580800e-03,\n",
       "       6.30021476e-02, 7.16107025e-03, 1.47875996e-02, 1.04706019e-02,\n",
       "       3.84509082e-02, 4.07656920e-03, 3.87851781e-02, 1.80078755e-04,\n",
       "       9.88973303e-06, 3.98323425e-04, 1.13547463e-04, 2.08406338e-04,\n",
       "       2.15427008e-02, 9.75937368e-06, 2.56678310e-05, 1.65120209e-04,\n",
       "       3.05140196e-05, 3.69554049e-02, 1.12419907e-04, 0.00000000e+00,\n",
       "       1.86295709e-02, 1.06190277e-04, 3.71702645e-02, 1.41906669e-03,\n",
       "       6.76263059e-05, 2.21126754e-04, 2.03937583e-03, 3.35749450e-03,\n",
       "       1.40640203e-04, 6.99894896e-05, 7.23370567e-03, 7.65677279e-02,\n",
       "       6.94186221e-04, 5.36527628e-04, 1.09829287e-02, 1.46532820e-02,\n",
       "       1.14655230e-02, 7.31563056e-03, 4.24073896e-04, 1.30101355e-04,\n",
       "       1.97914125e-04, 2.30621522e-05, 3.91461514e-03, 9.45821556e-04,\n",
       "       2.38139298e-04, 5.26071166e-02, 3.88327217e-02, 3.84833740e-03,\n",
       "       3.20135628e-03, 2.29924459e-03, 4.67563322e-04, 9.56091597e-03,\n",
       "       9.01658853e-03, 4.90868786e-03, 3.91761615e-03, 7.79082600e-03,\n",
       "       4.58925736e-04])"
      ]
     },
     "execution_count": 153,
     "metadata": {},
     "output_type": "execute_result"
    }
   ],
   "source": [
    "RFC.feature_importances_"
   ]
  },
  {
   "cell_type": "markdown",
   "metadata": {},
   "source": [
    "### Checking score against actual test set"
   ]
  },
  {
   "cell_type": "code",
   "execution_count": 137,
   "metadata": {},
   "outputs": [],
   "source": [
    "actual_X_test = df_test_dropped"
   ]
  },
  {
   "cell_type": "code",
   "execution_count": 138,
   "metadata": {},
   "outputs": [],
   "source": [
    "actual_y_pred = RFC.predict(actual_X_test)"
   ]
  },
  {
   "cell_type": "code",
   "execution_count": 142,
   "metadata": {},
   "outputs": [
    {
     "data": {
      "text/plain": [
       "Int64Index([     0,      1,      2,      3,      4,      5,      6,      7,\n",
       "                 8,      9,\n",
       "            ...\n",
       "            249990, 249991, 249992, 249993, 249994, 249995, 249996, 249997,\n",
       "            249998, 249999],\n",
       "           dtype='int64', name='case_id', length=250000)"
      ]
     },
     "execution_count": 142,
     "metadata": {},
     "output_type": "execute_result"
    }
   ],
   "source": [
    "actual_X_test.index"
   ]
  },
  {
   "cell_type": "code",
   "execution_count": 144,
   "metadata": {},
   "outputs": [
    {
     "data": {
      "text/plain": [
       "250000"
      ]
     },
     "execution_count": 144,
     "metadata": {},
     "output_type": "execute_result"
    }
   ],
   "source": [
    "len(actual_y_pred)"
   ]
  },
  {
   "cell_type": "code",
   "execution_count": 146,
   "metadata": {},
   "outputs": [],
   "source": [
    "pred_df = pd.DataFrame(zip(actual_X_test.index, actual_y_pred), columns=['case_id', 'prediction'], index=)"
   ]
  },
  {
   "cell_type": "code",
   "execution_count": 152,
   "metadata": {},
   "outputs": [],
   "source": [
    "pred_df.to_csv('./data/RFC1.csv')"
   ]
  },
  {
   "cell_type": "markdown",
   "metadata": {},
   "source": [
    "F1 score = '0.67441'"
   ]
  },
  {
   "cell_type": "markdown",
   "metadata": {},
   "source": [
    "### Using new df with label 5 added from extra training set for training"
   ]
  },
  {
   "cell_type": "code",
   "execution_count": 160,
   "metadata": {},
   "outputs": [],
   "source": [
    "df_5 = pd.read_csv('./data/df_with_5.csv', index_col=0)"
   ]
  },
  {
   "cell_type": "code",
   "execution_count": 164,
   "metadata": {},
   "outputs": [],
   "source": [
    "df_5.drop(['user_id', 'confidence'], axis=1, inplace=True)"
   ]
  },
  {
   "cell_type": "code",
   "execution_count": 169,
   "metadata": {},
   "outputs": [],
   "source": [
    "X = df_5.drop('label', axis=1)\n",
    "y = df_5.label"
   ]
  },
  {
   "cell_type": "code",
   "execution_count": 170,
   "metadata": {},
   "outputs": [],
   "source": [
    "X_train, X_test, y_train, y_test = train_test_split(X, y, test_size=0.25, random_state=42, stratify=y)"
   ]
  },
  {
   "cell_type": "code",
   "execution_count": 207,
   "metadata": {},
   "outputs": [],
   "source": [
    "param_grid = {\n",
    "    'n_estimators': [500],\n",
    "    'max_features': ['auto', 'sqrt', 'log2'],\n",
    "    'max_depth': [2,5,10],\n",
    "    'min_samples_leaf': [50, 75, 100]\n",
    "}"
   ]
  },
  {
   "cell_type": "code",
   "execution_count": 208,
   "metadata": {},
   "outputs": [],
   "source": [
    "RFC = RandomForestClassifier(n_jobs=-1)"
   ]
  },
  {
   "cell_type": "code",
   "execution_count": 209,
   "metadata": {},
   "outputs": [],
   "source": [
    "GS = GridSearchCV(RFC, param_grid, cv=5, verbose=3)"
   ]
  },
  {
   "cell_type": "code",
   "execution_count": 210,
   "metadata": {},
   "outputs": [
    {
     "name": "stdout",
     "output_type": "stream",
     "text": [
      "Fitting 5 folds for each of 27 candidates, totalling 135 fits\n",
      "[CV] max_depth=2, max_features=auto, min_samples_leaf=50, n_estimators=500 \n"
     ]
    },
    {
     "name": "stderr",
     "output_type": "stream",
     "text": [
      "[Parallel(n_jobs=1)]: Using backend SequentialBackend with 1 concurrent workers.\n"
     ]
    },
    {
     "name": "stdout",
     "output_type": "stream",
     "text": [
      "[CV]  max_depth=2, max_features=auto, min_samples_leaf=50, n_estimators=500, score=0.599, total=   2.0s\n",
      "[CV] max_depth=2, max_features=auto, min_samples_leaf=50, n_estimators=500 \n"
     ]
    },
    {
     "name": "stderr",
     "output_type": "stream",
     "text": [
      "[Parallel(n_jobs=1)]: Done   1 out of   1 | elapsed:    2.0s remaining:    0.0s\n"
     ]
    },
    {
     "name": "stdout",
     "output_type": "stream",
     "text": [
      "[CV]  max_depth=2, max_features=auto, min_samples_leaf=50, n_estimators=500, score=0.649, total=   0.5s\n",
      "[CV] max_depth=2, max_features=auto, min_samples_leaf=50, n_estimators=500 \n"
     ]
    },
    {
     "name": "stderr",
     "output_type": "stream",
     "text": [
      "[Parallel(n_jobs=1)]: Done   2 out of   2 | elapsed:    2.5s remaining:    0.0s\n"
     ]
    },
    {
     "name": "stdout",
     "output_type": "stream",
     "text": [
      "[CV]  max_depth=2, max_features=auto, min_samples_leaf=50, n_estimators=500, score=0.659, total=   0.4s\n",
      "[CV] max_depth=2, max_features=auto, min_samples_leaf=50, n_estimators=500 \n",
      "[CV]  max_depth=2, max_features=auto, min_samples_leaf=50, n_estimators=500, score=0.646, total=   0.4s\n",
      "[CV] max_depth=2, max_features=auto, min_samples_leaf=50, n_estimators=500 \n",
      "[CV]  max_depth=2, max_features=auto, min_samples_leaf=50, n_estimators=500, score=0.649, total=   0.4s\n",
      "[CV] max_depth=2, max_features=auto, min_samples_leaf=75, n_estimators=500 \n",
      "[CV]  max_depth=2, max_features=auto, min_samples_leaf=75, n_estimators=500, score=0.602, total=   0.4s\n",
      "[CV] max_depth=2, max_features=auto, min_samples_leaf=75, n_estimators=500 \n",
      "[CV]  max_depth=2, max_features=auto, min_samples_leaf=75, n_estimators=500, score=0.626, total=   0.4s\n",
      "[CV] max_depth=2, max_features=auto, min_samples_leaf=75, n_estimators=500 \n",
      "[CV]  max_depth=2, max_features=auto, min_samples_leaf=75, n_estimators=500, score=0.638, total=   0.4s\n",
      "[CV] max_depth=2, max_features=auto, min_samples_leaf=75, n_estimators=500 \n",
      "[CV]  max_depth=2, max_features=auto, min_samples_leaf=75, n_estimators=500, score=0.598, total=   0.4s\n",
      "[CV] max_depth=2, max_features=auto, min_samples_leaf=75, n_estimators=500 \n",
      "[CV]  max_depth=2, max_features=auto, min_samples_leaf=75, n_estimators=500, score=0.631, total=   0.4s\n",
      "[CV] max_depth=2, max_features=auto, min_samples_leaf=100, n_estimators=500 \n",
      "[CV]  max_depth=2, max_features=auto, min_samples_leaf=100, n_estimators=500, score=0.594, total=   0.4s\n",
      "[CV] max_depth=2, max_features=auto, min_samples_leaf=100, n_estimators=500 \n",
      "[CV]  max_depth=2, max_features=auto, min_samples_leaf=100, n_estimators=500, score=0.594, total=   0.4s\n",
      "[CV] max_depth=2, max_features=auto, min_samples_leaf=100, n_estimators=500 \n",
      "[CV]  max_depth=2, max_features=auto, min_samples_leaf=100, n_estimators=500, score=0.608, total=   0.4s\n",
      "[CV] max_depth=2, max_features=auto, min_samples_leaf=100, n_estimators=500 \n",
      "[CV]  max_depth=2, max_features=auto, min_samples_leaf=100, n_estimators=500, score=0.640, total=   0.4s\n",
      "[CV] max_depth=2, max_features=auto, min_samples_leaf=100, n_estimators=500 \n",
      "[CV]  max_depth=2, max_features=auto, min_samples_leaf=100, n_estimators=500, score=0.607, total=   0.4s\n",
      "[CV] max_depth=2, max_features=sqrt, min_samples_leaf=50, n_estimators=500 \n",
      "[CV]  max_depth=2, max_features=sqrt, min_samples_leaf=50, n_estimators=500, score=0.632, total=   0.4s\n",
      "[CV] max_depth=2, max_features=sqrt, min_samples_leaf=50, n_estimators=500 \n",
      "[CV]  max_depth=2, max_features=sqrt, min_samples_leaf=50, n_estimators=500, score=0.661, total=   0.4s\n",
      "[CV] max_depth=2, max_features=sqrt, min_samples_leaf=50, n_estimators=500 \n",
      "[CV]  max_depth=2, max_features=sqrt, min_samples_leaf=50, n_estimators=500, score=0.629, total=   0.5s\n",
      "[CV] max_depth=2, max_features=sqrt, min_samples_leaf=50, n_estimators=500 \n",
      "[CV]  max_depth=2, max_features=sqrt, min_samples_leaf=50, n_estimators=500, score=0.604, total=   0.4s\n",
      "[CV] max_depth=2, max_features=sqrt, min_samples_leaf=50, n_estimators=500 \n",
      "[CV]  max_depth=2, max_features=sqrt, min_samples_leaf=50, n_estimators=500, score=0.670, total=   0.4s\n",
      "[CV] max_depth=2, max_features=sqrt, min_samples_leaf=75, n_estimators=500 \n",
      "[CV]  max_depth=2, max_features=sqrt, min_samples_leaf=75, n_estimators=500, score=0.620, total=   0.4s\n",
      "[CV] max_depth=2, max_features=sqrt, min_samples_leaf=75, n_estimators=500 \n",
      "[CV]  max_depth=2, max_features=sqrt, min_samples_leaf=75, n_estimators=500, score=0.629, total=   0.4s\n",
      "[CV] max_depth=2, max_features=sqrt, min_samples_leaf=75, n_estimators=500 \n",
      "[CV]  max_depth=2, max_features=sqrt, min_samples_leaf=75, n_estimators=500, score=0.623, total=   0.4s\n",
      "[CV] max_depth=2, max_features=sqrt, min_samples_leaf=75, n_estimators=500 \n",
      "[CV]  max_depth=2, max_features=sqrt, min_samples_leaf=75, n_estimators=500, score=0.628, total=   0.5s\n",
      "[CV] max_depth=2, max_features=sqrt, min_samples_leaf=75, n_estimators=500 \n",
      "[CV]  max_depth=2, max_features=sqrt, min_samples_leaf=75, n_estimators=500, score=0.616, total=   0.4s\n",
      "[CV] max_depth=2, max_features=sqrt, min_samples_leaf=100, n_estimators=500 \n",
      "[CV]  max_depth=2, max_features=sqrt, min_samples_leaf=100, n_estimators=500, score=0.605, total=   0.6s\n",
      "[CV] max_depth=2, max_features=sqrt, min_samples_leaf=100, n_estimators=500 \n",
      "[CV]  max_depth=2, max_features=sqrt, min_samples_leaf=100, n_estimators=500, score=0.611, total=   0.5s\n",
      "[CV] max_depth=2, max_features=sqrt, min_samples_leaf=100, n_estimators=500 \n",
      "[CV]  max_depth=2, max_features=sqrt, min_samples_leaf=100, n_estimators=500, score=0.623, total=   0.4s\n",
      "[CV] max_depth=2, max_features=sqrt, min_samples_leaf=100, n_estimators=500 \n",
      "[CV]  max_depth=2, max_features=sqrt, min_samples_leaf=100, n_estimators=500, score=0.601, total=   0.4s\n",
      "[CV] max_depth=2, max_features=sqrt, min_samples_leaf=100, n_estimators=500 \n",
      "[CV]  max_depth=2, max_features=sqrt, min_samples_leaf=100, n_estimators=500, score=0.574, total=   0.4s\n",
      "[CV] max_depth=2, max_features=log2, min_samples_leaf=50, n_estimators=500 \n",
      "[CV]  max_depth=2, max_features=log2, min_samples_leaf=50, n_estimators=500, score=0.667, total=   0.4s\n",
      "[CV] max_depth=2, max_features=log2, min_samples_leaf=50, n_estimators=500 \n",
      "[CV]  max_depth=2, max_features=log2, min_samples_leaf=50, n_estimators=500, score=0.652, total=   0.4s\n",
      "[CV] max_depth=2, max_features=log2, min_samples_leaf=50, n_estimators=500 \n",
      "[CV]  max_depth=2, max_features=log2, min_samples_leaf=50, n_estimators=500, score=0.662, total=   0.4s\n",
      "[CV] max_depth=2, max_features=log2, min_samples_leaf=50, n_estimators=500 \n",
      "[CV]  max_depth=2, max_features=log2, min_samples_leaf=50, n_estimators=500, score=0.679, total=   0.4s\n",
      "[CV] max_depth=2, max_features=log2, min_samples_leaf=50, n_estimators=500 \n",
      "[CV]  max_depth=2, max_features=log2, min_samples_leaf=50, n_estimators=500, score=0.673, total=   0.4s\n",
      "[CV] max_depth=2, max_features=log2, min_samples_leaf=75, n_estimators=500 \n",
      "[CV]  max_depth=2, max_features=log2, min_samples_leaf=75, n_estimators=500, score=0.605, total=   0.4s\n",
      "[CV] max_depth=2, max_features=log2, min_samples_leaf=75, n_estimators=500 \n",
      "[CV]  max_depth=2, max_features=log2, min_samples_leaf=75, n_estimators=500, score=0.673, total=   0.4s\n",
      "[CV] max_depth=2, max_features=log2, min_samples_leaf=75, n_estimators=500 \n",
      "[CV]  max_depth=2, max_features=log2, min_samples_leaf=75, n_estimators=500, score=0.650, total=   0.4s\n",
      "[CV] max_depth=2, max_features=log2, min_samples_leaf=75, n_estimators=500 \n",
      "[CV]  max_depth=2, max_features=log2, min_samples_leaf=75, n_estimators=500, score=0.610, total=   0.4s\n",
      "[CV] max_depth=2, max_features=log2, min_samples_leaf=75, n_estimators=500 \n",
      "[CV]  max_depth=2, max_features=log2, min_samples_leaf=75, n_estimators=500, score=0.598, total=   0.4s\n",
      "[CV] max_depth=2, max_features=log2, min_samples_leaf=100, n_estimators=500 \n",
      "[CV]  max_depth=2, max_features=log2, min_samples_leaf=100, n_estimators=500, score=0.620, total=   0.4s\n",
      "[CV] max_depth=2, max_features=log2, min_samples_leaf=100, n_estimators=500 \n",
      "[CV]  max_depth=2, max_features=log2, min_samples_leaf=100, n_estimators=500, score=0.620, total=   0.4s\n",
      "[CV] max_depth=2, max_features=log2, min_samples_leaf=100, n_estimators=500 \n",
      "[CV]  max_depth=2, max_features=log2, min_samples_leaf=100, n_estimators=500, score=0.644, total=   0.4s\n",
      "[CV] max_depth=2, max_features=log2, min_samples_leaf=100, n_estimators=500 \n",
      "[CV]  max_depth=2, max_features=log2, min_samples_leaf=100, n_estimators=500, score=0.604, total=   0.4s\n",
      "[CV] max_depth=2, max_features=log2, min_samples_leaf=100, n_estimators=500 \n",
      "[CV]  max_depth=2, max_features=log2, min_samples_leaf=100, n_estimators=500, score=0.613, total=   0.4s\n",
      "[CV] max_depth=5, max_features=auto, min_samples_leaf=50, n_estimators=500 \n",
      "[CV]  max_depth=5, max_features=auto, min_samples_leaf=50, n_estimators=500, score=0.702, total=   0.4s\n",
      "[CV] max_depth=5, max_features=auto, min_samples_leaf=50, n_estimators=500 \n",
      "[CV]  max_depth=5, max_features=auto, min_samples_leaf=50, n_estimators=500, score=0.702, total=   0.4s\n",
      "[CV] max_depth=5, max_features=auto, min_samples_leaf=50, n_estimators=500 \n",
      "[CV]  max_depth=5, max_features=auto, min_samples_leaf=50, n_estimators=500, score=0.680, total=   0.4s\n",
      "[CV] max_depth=5, max_features=auto, min_samples_leaf=50, n_estimators=500 \n"
     ]
    },
    {
     "name": "stdout",
     "output_type": "stream",
     "text": [
      "[CV]  max_depth=5, max_features=auto, min_samples_leaf=50, n_estimators=500, score=0.697, total=   0.5s\n",
      "[CV] max_depth=5, max_features=auto, min_samples_leaf=50, n_estimators=500 \n",
      "[CV]  max_depth=5, max_features=auto, min_samples_leaf=50, n_estimators=500, score=0.697, total=   0.4s\n",
      "[CV] max_depth=5, max_features=auto, min_samples_leaf=75, n_estimators=500 \n",
      "[CV]  max_depth=5, max_features=auto, min_samples_leaf=75, n_estimators=500, score=0.637, total=   0.5s\n",
      "[CV] max_depth=5, max_features=auto, min_samples_leaf=75, n_estimators=500 \n",
      "[CV]  max_depth=5, max_features=auto, min_samples_leaf=75, n_estimators=500, score=0.643, total=   0.4s\n",
      "[CV] max_depth=5, max_features=auto, min_samples_leaf=75, n_estimators=500 \n",
      "[CV]  max_depth=5, max_features=auto, min_samples_leaf=75, n_estimators=500, score=0.650, total=   0.5s\n",
      "[CV] max_depth=5, max_features=auto, min_samples_leaf=75, n_estimators=500 \n",
      "[CV]  max_depth=5, max_features=auto, min_samples_leaf=75, n_estimators=500, score=0.676, total=   0.5s\n",
      "[CV] max_depth=5, max_features=auto, min_samples_leaf=75, n_estimators=500 \n",
      "[CV]  max_depth=5, max_features=auto, min_samples_leaf=75, n_estimators=500, score=0.640, total=   0.5s\n",
      "[CV] max_depth=5, max_features=auto, min_samples_leaf=100, n_estimators=500 \n",
      "[CV]  max_depth=5, max_features=auto, min_samples_leaf=100, n_estimators=500, score=0.635, total=   0.5s\n",
      "[CV] max_depth=5, max_features=auto, min_samples_leaf=100, n_estimators=500 \n",
      "[CV]  max_depth=5, max_features=auto, min_samples_leaf=100, n_estimators=500, score=0.602, total=   0.4s\n",
      "[CV] max_depth=5, max_features=auto, min_samples_leaf=100, n_estimators=500 \n",
      "[CV]  max_depth=5, max_features=auto, min_samples_leaf=100, n_estimators=500, score=0.635, total=   0.4s\n",
      "[CV] max_depth=5, max_features=auto, min_samples_leaf=100, n_estimators=500 \n",
      "[CV]  max_depth=5, max_features=auto, min_samples_leaf=100, n_estimators=500, score=0.631, total=   0.4s\n",
      "[CV] max_depth=5, max_features=auto, min_samples_leaf=100, n_estimators=500 \n",
      "[CV]  max_depth=5, max_features=auto, min_samples_leaf=100, n_estimators=500, score=0.616, total=   0.4s\n",
      "[CV] max_depth=5, max_features=sqrt, min_samples_leaf=50, n_estimators=500 \n",
      "[CV]  max_depth=5, max_features=sqrt, min_samples_leaf=50, n_estimators=500, score=0.675, total=   0.4s\n",
      "[CV] max_depth=5, max_features=sqrt, min_samples_leaf=50, n_estimators=500 \n",
      "[CV]  max_depth=5, max_features=sqrt, min_samples_leaf=50, n_estimators=500, score=0.705, total=   0.4s\n",
      "[CV] max_depth=5, max_features=sqrt, min_samples_leaf=50, n_estimators=500 \n",
      "[CV]  max_depth=5, max_features=sqrt, min_samples_leaf=50, n_estimators=500, score=0.680, total=   0.4s\n",
      "[CV] max_depth=5, max_features=sqrt, min_samples_leaf=50, n_estimators=500 \n",
      "[CV]  max_depth=5, max_features=sqrt, min_samples_leaf=50, n_estimators=500, score=0.682, total=   0.4s\n",
      "[CV] max_depth=5, max_features=sqrt, min_samples_leaf=50, n_estimators=500 \n",
      "[CV]  max_depth=5, max_features=sqrt, min_samples_leaf=50, n_estimators=500, score=0.688, total=   0.4s\n",
      "[CV] max_depth=5, max_features=sqrt, min_samples_leaf=75, n_estimators=500 \n",
      "[CV]  max_depth=5, max_features=sqrt, min_samples_leaf=75, n_estimators=500, score=0.626, total=   0.4s\n",
      "[CV] max_depth=5, max_features=sqrt, min_samples_leaf=75, n_estimators=500 \n",
      "[CV]  max_depth=5, max_features=sqrt, min_samples_leaf=75, n_estimators=500, score=0.635, total=   0.4s\n",
      "[CV] max_depth=5, max_features=sqrt, min_samples_leaf=75, n_estimators=500 \n",
      "[CV]  max_depth=5, max_features=sqrt, min_samples_leaf=75, n_estimators=500, score=0.653, total=  19.8s\n",
      "[CV] max_depth=5, max_features=sqrt, min_samples_leaf=75, n_estimators=500 \n",
      "[CV]  max_depth=5, max_features=sqrt, min_samples_leaf=75, n_estimators=500, score=0.652, total=   0.4s\n",
      "[CV] max_depth=5, max_features=sqrt, min_samples_leaf=75, n_estimators=500 \n",
      "[CV]  max_depth=5, max_features=sqrt, min_samples_leaf=75, n_estimators=500, score=0.595, total=   0.5s\n",
      "[CV] max_depth=5, max_features=sqrt, min_samples_leaf=100, n_estimators=500 \n",
      "[CV]  max_depth=5, max_features=sqrt, min_samples_leaf=100, n_estimators=500, score=0.614, total=   0.4s\n",
      "[CV] max_depth=5, max_features=sqrt, min_samples_leaf=100, n_estimators=500 \n",
      "[CV]  max_depth=5, max_features=sqrt, min_samples_leaf=100, n_estimators=500, score=0.623, total=   0.4s\n",
      "[CV] max_depth=5, max_features=sqrt, min_samples_leaf=100, n_estimators=500 \n",
      "[CV]  max_depth=5, max_features=sqrt, min_samples_leaf=100, n_estimators=500, score=0.653, total=   0.4s\n",
      "[CV] max_depth=5, max_features=sqrt, min_samples_leaf=100, n_estimators=500 \n",
      "[CV]  max_depth=5, max_features=sqrt, min_samples_leaf=100, n_estimators=500, score=0.598, total=   0.5s\n",
      "[CV] max_depth=5, max_features=sqrt, min_samples_leaf=100, n_estimators=500 \n",
      "[CV]  max_depth=5, max_features=sqrt, min_samples_leaf=100, n_estimators=500, score=0.628, total=   0.4s\n",
      "[CV] max_depth=5, max_features=log2, min_samples_leaf=50, n_estimators=500 \n",
      "[CV]  max_depth=5, max_features=log2, min_samples_leaf=50, n_estimators=500, score=0.646, total=   0.4s\n",
      "[CV] max_depth=5, max_features=log2, min_samples_leaf=50, n_estimators=500 \n",
      "[CV]  max_depth=5, max_features=log2, min_samples_leaf=50, n_estimators=500, score=0.702, total=   0.4s\n",
      "[CV] max_depth=5, max_features=log2, min_samples_leaf=50, n_estimators=500 \n",
      "[CV]  max_depth=5, max_features=log2, min_samples_leaf=50, n_estimators=500, score=0.671, total=   0.4s\n",
      "[CV] max_depth=5, max_features=log2, min_samples_leaf=50, n_estimators=500 \n",
      "[CV]  max_depth=5, max_features=log2, min_samples_leaf=50, n_estimators=500, score=0.661, total=   0.4s\n",
      "[CV] max_depth=5, max_features=log2, min_samples_leaf=50, n_estimators=500 \n",
      "[CV]  max_depth=5, max_features=log2, min_samples_leaf=50, n_estimators=500, score=0.682, total=   0.4s\n",
      "[CV] max_depth=5, max_features=log2, min_samples_leaf=75, n_estimators=500 \n",
      "[CV]  max_depth=5, max_features=log2, min_samples_leaf=75, n_estimators=500, score=0.637, total=   0.4s\n",
      "[CV] max_depth=5, max_features=log2, min_samples_leaf=75, n_estimators=500 \n",
      "[CV]  max_depth=5, max_features=log2, min_samples_leaf=75, n_estimators=500, score=0.626, total=   0.4s\n",
      "[CV] max_depth=5, max_features=log2, min_samples_leaf=75, n_estimators=500 \n",
      "[CV]  max_depth=5, max_features=log2, min_samples_leaf=75, n_estimators=500, score=0.653, total=   0.4s\n",
      "[CV] max_depth=5, max_features=log2, min_samples_leaf=75, n_estimators=500 \n",
      "[CV]  max_depth=5, max_features=log2, min_samples_leaf=75, n_estimators=500, score=0.670, total=   0.4s\n",
      "[CV] max_depth=5, max_features=log2, min_samples_leaf=75, n_estimators=500 \n",
      "[CV]  max_depth=5, max_features=log2, min_samples_leaf=75, n_estimators=500, score=0.667, total=   0.4s\n",
      "[CV] max_depth=5, max_features=log2, min_samples_leaf=100, n_estimators=500 \n",
      "[CV]  max_depth=5, max_features=log2, min_samples_leaf=100, n_estimators=500, score=0.643, total=   0.4s\n",
      "[CV] max_depth=5, max_features=log2, min_samples_leaf=100, n_estimators=500 \n",
      "[CV]  max_depth=5, max_features=log2, min_samples_leaf=100, n_estimators=500, score=0.614, total=   0.4s\n",
      "[CV] max_depth=5, max_features=log2, min_samples_leaf=100, n_estimators=500 \n",
      "[CV]  max_depth=5, max_features=log2, min_samples_leaf=100, n_estimators=500, score=0.608, total=   0.4s\n",
      "[CV] max_depth=5, max_features=log2, min_samples_leaf=100, n_estimators=500 \n",
      "[CV]  max_depth=5, max_features=log2, min_samples_leaf=100, n_estimators=500, score=0.673, total=   0.4s\n",
      "[CV] max_depth=5, max_features=log2, min_samples_leaf=100, n_estimators=500 \n",
      "[CV]  max_depth=5, max_features=log2, min_samples_leaf=100, n_estimators=500, score=0.604, total=   0.4s\n",
      "[CV] max_depth=10, max_features=auto, min_samples_leaf=50, n_estimators=500 \n",
      "[CV]  max_depth=10, max_features=auto, min_samples_leaf=50, n_estimators=500, score=0.658, total=   0.4s\n",
      "[CV] max_depth=10, max_features=auto, min_samples_leaf=50, n_estimators=500 \n",
      "[CV]  max_depth=10, max_features=auto, min_samples_leaf=50, n_estimators=500, score=0.702, total=   0.5s\n",
      "[CV] max_depth=10, max_features=auto, min_samples_leaf=50, n_estimators=500 \n",
      "[CV]  max_depth=10, max_features=auto, min_samples_leaf=50, n_estimators=500, score=0.688, total=   0.5s\n",
      "[CV] max_depth=10, max_features=auto, min_samples_leaf=50, n_estimators=500 \n",
      "[CV]  max_depth=10, max_features=auto, min_samples_leaf=50, n_estimators=500, score=0.691, total=   0.4s\n",
      "[CV] max_depth=10, max_features=auto, min_samples_leaf=50, n_estimators=500 \n"
     ]
    },
    {
     "name": "stdout",
     "output_type": "stream",
     "text": [
      "[CV]  max_depth=10, max_features=auto, min_samples_leaf=50, n_estimators=500, score=0.688, total=   0.4s\n",
      "[CV] max_depth=10, max_features=auto, min_samples_leaf=75, n_estimators=500 \n",
      "[CV]  max_depth=10, max_features=auto, min_samples_leaf=75, n_estimators=500, score=0.652, total=   0.4s\n",
      "[CV] max_depth=10, max_features=auto, min_samples_leaf=75, n_estimators=500 \n",
      "[CV]  max_depth=10, max_features=auto, min_samples_leaf=75, n_estimators=500, score=0.655, total=   0.4s\n",
      "[CV] max_depth=10, max_features=auto, min_samples_leaf=75, n_estimators=500 \n",
      "[CV]  max_depth=10, max_features=auto, min_samples_leaf=75, n_estimators=500, score=0.647, total=   0.4s\n",
      "[CV] max_depth=10, max_features=auto, min_samples_leaf=75, n_estimators=500 \n",
      "[CV]  max_depth=10, max_features=auto, min_samples_leaf=75, n_estimators=500, score=0.694, total=   0.4s\n",
      "[CV] max_depth=10, max_features=auto, min_samples_leaf=75, n_estimators=500 \n",
      "[CV]  max_depth=10, max_features=auto, min_samples_leaf=75, n_estimators=500, score=0.673, total=   0.4s\n",
      "[CV] max_depth=10, max_features=auto, min_samples_leaf=100, n_estimators=500 \n",
      "[CV]  max_depth=10, max_features=auto, min_samples_leaf=100, n_estimators=500, score=0.623, total=   0.5s\n",
      "[CV] max_depth=10, max_features=auto, min_samples_leaf=100, n_estimators=500 \n",
      "[CV]  max_depth=10, max_features=auto, min_samples_leaf=100, n_estimators=500, score=0.620, total=   0.5s\n",
      "[CV] max_depth=10, max_features=auto, min_samples_leaf=100, n_estimators=500 \n",
      "[CV]  max_depth=10, max_features=auto, min_samples_leaf=100, n_estimators=500, score=0.626, total=   0.5s\n",
      "[CV] max_depth=10, max_features=auto, min_samples_leaf=100, n_estimators=500 \n",
      "[CV]  max_depth=10, max_features=auto, min_samples_leaf=100, n_estimators=500, score=0.637, total=   0.5s\n",
      "[CV] max_depth=10, max_features=auto, min_samples_leaf=100, n_estimators=500 \n",
      "[CV]  max_depth=10, max_features=auto, min_samples_leaf=100, n_estimators=500, score=0.604, total=   0.5s\n",
      "[CV] max_depth=10, max_features=sqrt, min_samples_leaf=50, n_estimators=500 \n",
      "[CV]  max_depth=10, max_features=sqrt, min_samples_leaf=50, n_estimators=500, score=0.673, total=   0.5s\n",
      "[CV] max_depth=10, max_features=sqrt, min_samples_leaf=50, n_estimators=500 \n",
      "[CV]  max_depth=10, max_features=sqrt, min_samples_leaf=50, n_estimators=500, score=0.719, total=   0.6s\n",
      "[CV] max_depth=10, max_features=sqrt, min_samples_leaf=50, n_estimators=500 \n",
      "[CV]  max_depth=10, max_features=sqrt, min_samples_leaf=50, n_estimators=500, score=0.688, total=   0.5s\n",
      "[CV] max_depth=10, max_features=sqrt, min_samples_leaf=50, n_estimators=500 \n",
      "[CV]  max_depth=10, max_features=sqrt, min_samples_leaf=50, n_estimators=500, score=0.697, total=   0.5s\n",
      "[CV] max_depth=10, max_features=sqrt, min_samples_leaf=50, n_estimators=500 \n",
      "[CV]  max_depth=10, max_features=sqrt, min_samples_leaf=50, n_estimators=500, score=0.697, total=   0.4s\n",
      "[CV] max_depth=10, max_features=sqrt, min_samples_leaf=75, n_estimators=500 \n",
      "[CV]  max_depth=10, max_features=sqrt, min_samples_leaf=75, n_estimators=500, score=0.637, total=   0.5s\n",
      "[CV] max_depth=10, max_features=sqrt, min_samples_leaf=75, n_estimators=500 \n",
      "[CV]  max_depth=10, max_features=sqrt, min_samples_leaf=75, n_estimators=500, score=0.646, total=   0.4s\n",
      "[CV] max_depth=10, max_features=sqrt, min_samples_leaf=75, n_estimators=500 \n",
      "[CV]  max_depth=10, max_features=sqrt, min_samples_leaf=75, n_estimators=500, score=0.665, total=   0.4s\n",
      "[CV] max_depth=10, max_features=sqrt, min_samples_leaf=75, n_estimators=500 \n",
      "[CV]  max_depth=10, max_features=sqrt, min_samples_leaf=75, n_estimators=500, score=0.691, total=   0.4s\n",
      "[CV] max_depth=10, max_features=sqrt, min_samples_leaf=75, n_estimators=500 \n",
      "[CV]  max_depth=10, max_features=sqrt, min_samples_leaf=75, n_estimators=500, score=0.646, total=   0.4s\n",
      "[CV] max_depth=10, max_features=sqrt, min_samples_leaf=100, n_estimators=500 \n",
      "[CV]  max_depth=10, max_features=sqrt, min_samples_leaf=100, n_estimators=500, score=0.617, total=   0.4s\n",
      "[CV] max_depth=10, max_features=sqrt, min_samples_leaf=100, n_estimators=500 \n",
      "[CV]  max_depth=10, max_features=sqrt, min_samples_leaf=100, n_estimators=500, score=0.608, total=   0.4s\n",
      "[CV] max_depth=10, max_features=sqrt, min_samples_leaf=100, n_estimators=500 \n",
      "[CV]  max_depth=10, max_features=sqrt, min_samples_leaf=100, n_estimators=500, score=0.638, total=   0.4s\n",
      "[CV] max_depth=10, max_features=sqrt, min_samples_leaf=100, n_estimators=500 \n",
      "[CV]  max_depth=10, max_features=sqrt, min_samples_leaf=100, n_estimators=500, score=0.643, total=   0.4s\n",
      "[CV] max_depth=10, max_features=sqrt, min_samples_leaf=100, n_estimators=500 \n",
      "[CV]  max_depth=10, max_features=sqrt, min_samples_leaf=100, n_estimators=500, score=0.607, total=   0.4s\n",
      "[CV] max_depth=10, max_features=log2, min_samples_leaf=50, n_estimators=500 \n",
      "[CV]  max_depth=10, max_features=log2, min_samples_leaf=50, n_estimators=500, score=0.681, total=   0.4s\n",
      "[CV] max_depth=10, max_features=log2, min_samples_leaf=50, n_estimators=500 \n",
      "[CV]  max_depth=10, max_features=log2, min_samples_leaf=50, n_estimators=500, score=0.716, total=   0.5s\n",
      "[CV] max_depth=10, max_features=log2, min_samples_leaf=50, n_estimators=500 \n",
      "[CV]  max_depth=10, max_features=log2, min_samples_leaf=50, n_estimators=500, score=0.680, total=   0.5s\n",
      "[CV] max_depth=10, max_features=log2, min_samples_leaf=50, n_estimators=500 \n",
      "[CV]  max_depth=10, max_features=log2, min_samples_leaf=50, n_estimators=500, score=0.709, total=   0.4s\n",
      "[CV] max_depth=10, max_features=log2, min_samples_leaf=50, n_estimators=500 \n",
      "[CV]  max_depth=10, max_features=log2, min_samples_leaf=50, n_estimators=500, score=0.694, total=   0.4s\n",
      "[CV] max_depth=10, max_features=log2, min_samples_leaf=75, n_estimators=500 \n",
      "[CV]  max_depth=10, max_features=log2, min_samples_leaf=75, n_estimators=500, score=0.649, total=   0.4s\n",
      "[CV] max_depth=10, max_features=log2, min_samples_leaf=75, n_estimators=500 \n",
      "[CV]  max_depth=10, max_features=log2, min_samples_leaf=75, n_estimators=500, score=0.640, total=   0.4s\n",
      "[CV] max_depth=10, max_features=log2, min_samples_leaf=75, n_estimators=500 \n",
      "[CV]  max_depth=10, max_features=log2, min_samples_leaf=75, n_estimators=500, score=0.680, total=   0.4s\n",
      "[CV] max_depth=10, max_features=log2, min_samples_leaf=75, n_estimators=500 \n",
      "[CV]  max_depth=10, max_features=log2, min_samples_leaf=75, n_estimators=500, score=0.628, total=   0.4s\n",
      "[CV] max_depth=10, max_features=log2, min_samples_leaf=75, n_estimators=500 \n",
      "[CV]  max_depth=10, max_features=log2, min_samples_leaf=75, n_estimators=500, score=0.679, total=   0.4s\n",
      "[CV] max_depth=10, max_features=log2, min_samples_leaf=100, n_estimators=500 \n",
      "[CV]  max_depth=10, max_features=log2, min_samples_leaf=100, n_estimators=500, score=0.632, total=   0.4s\n",
      "[CV] max_depth=10, max_features=log2, min_samples_leaf=100, n_estimators=500 \n",
      "[CV]  max_depth=10, max_features=log2, min_samples_leaf=100, n_estimators=500, score=0.620, total=   0.4s\n",
      "[CV] max_depth=10, max_features=log2, min_samples_leaf=100, n_estimators=500 \n",
      "[CV]  max_depth=10, max_features=log2, min_samples_leaf=100, n_estimators=500, score=0.668, total=   0.4s\n",
      "[CV] max_depth=10, max_features=log2, min_samples_leaf=100, n_estimators=500 \n",
      "[CV]  max_depth=10, max_features=log2, min_samples_leaf=100, n_estimators=500, score=0.607, total=   0.4s\n",
      "[CV] max_depth=10, max_features=log2, min_samples_leaf=100, n_estimators=500 \n",
      "[CV]  max_depth=10, max_features=log2, min_samples_leaf=100, n_estimators=500, score=0.616, total=   0.4s\n"
     ]
    },
    {
     "name": "stderr",
     "output_type": "stream",
     "text": [
      "[Parallel(n_jobs=1)]: Done 135 out of 135 | elapsed:  1.3min finished\n"
     ]
    },
    {
     "data": {
      "text/plain": [
       "GridSearchCV(cv=5, error_score='raise-deprecating',\n",
       "             estimator=RandomForestClassifier(bootstrap=True, class_weight=None,\n",
       "                                              criterion='gini', max_depth=None,\n",
       "                                              max_features='auto',\n",
       "                                              max_leaf_nodes=None,\n",
       "                                              min_impurity_decrease=0.0,\n",
       "                                              min_impurity_split=None,\n",
       "                                              min_samples_leaf=1,\n",
       "                                              min_samples_split=2,\n",
       "                                              min_weight_fraction_leaf=0.0,\n",
       "                                              n_estimators='warn', n_jobs=-1,\n",
       "                                              oob_score=False,\n",
       "                                              random_state=None, verbose=0,\n",
       "                                              warm_start=False),\n",
       "             iid='warn', n_jobs=None,\n",
       "             param_grid={'max_depth': [2, 5, 10],\n",
       "                         'max_features': ['auto', 'sqrt', 'log2'],\n",
       "                         'min_samples_leaf': [50, 75, 100],\n",
       "                         'n_estimators': [500]},\n",
       "             pre_dispatch='2*n_jobs', refit=True, return_train_score=False,\n",
       "             scoring=None, verbose=3)"
      ]
     },
     "execution_count": 210,
     "metadata": {},
     "output_type": "execute_result"
    }
   ],
   "source": [
    "GS.fit(X_train, y_train)"
   ]
  },
  {
   "cell_type": "code",
   "execution_count": 211,
   "metadata": {},
   "outputs": [
    {
     "data": {
      "text/plain": [
       "{'max_depth': 10,\n",
       " 'max_features': 'log2',\n",
       " 'min_samples_leaf': 50,\n",
       " 'n_estimators': 500}"
      ]
     },
     "execution_count": 211,
     "metadata": {},
     "output_type": "execute_result"
    }
   ],
   "source": [
    "GS.best_params_"
   ]
  },
  {
   "cell_type": "code",
   "execution_count": 229,
   "metadata": {},
   "outputs": [],
   "source": [
    "RFC2 = RandomForestClassifier(n_estimators = 500, max_depth =  10, max_features = 'log2', min_samples_leaf = 50)"
   ]
  },
  {
   "cell_type": "code",
   "execution_count": 230,
   "metadata": {},
   "outputs": [
    {
     "data": {
      "text/plain": [
       "RandomForestClassifier(bootstrap=True, class_weight=None, criterion='gini',\n",
       "                       max_depth=10, max_features='log2', max_leaf_nodes=None,\n",
       "                       min_impurity_decrease=0.0, min_impurity_split=None,\n",
       "                       min_samples_leaf=50, min_samples_split=2,\n",
       "                       min_weight_fraction_leaf=0.0, n_estimators=500,\n",
       "                       n_jobs=None, oob_score=False, random_state=None,\n",
       "                       verbose=0, warm_start=False)"
      ]
     },
     "execution_count": 230,
     "metadata": {},
     "output_type": "execute_result"
    }
   ],
   "source": [
    "RFC2.fit(X_train, y_train)"
   ]
  },
  {
   "cell_type": "code",
   "execution_count": 231,
   "metadata": {},
   "outputs": [],
   "source": [
    "y_pred = RFC2.predict(X_test)"
   ]
  },
  {
   "cell_type": "code",
   "execution_count": 232,
   "metadata": {},
   "outputs": [
    {
     "data": {
      "text/plain": [
       "0.6384706608578523"
      ]
     },
     "execution_count": 232,
     "metadata": {},
     "output_type": "execute_result"
    }
   ],
   "source": [
    "f1_score(y_test, y_pred, labels=None, pos_label=1, average='weighted')"
   ]
  },
  {
   "cell_type": "code",
   "execution_count": 220,
   "metadata": {},
   "outputs": [],
   "source": [
    "df_test = pd.read_csv('./data/test_set.csv', index_col=0)"
   ]
  },
  {
   "cell_type": "code",
   "execution_count": 228,
   "metadata": {},
   "outputs": [],
   "source": [
    "df_test = df_test[df_5.columns.tolist()[:-1]]"
   ]
  },
  {
   "cell_type": "code",
   "execution_count": 233,
   "metadata": {},
   "outputs": [],
   "source": [
    "actual_y_pred = RFC2.predict(df_test)"
   ]
  },
  {
   "cell_type": "code",
   "execution_count": 234,
   "metadata": {},
   "outputs": [],
   "source": [
    "pred_df = pd.DataFrame(zip(df_test.index, actual_y_pred), columns=['case_id', 'prediction'])"
   ]
  },
  {
   "cell_type": "code",
   "execution_count": null,
   "metadata": {},
   "outputs": [],
   "source": [
    "pred_df.to_csv('./data/RFC2.csv')"
   ]
  },
  {
   "cell_type": "markdown",
   "metadata": {},
   "source": [
    "### Using KNN"
   ]
  },
  {
   "cell_type": "code",
   "execution_count": 246,
   "metadata": {},
   "outputs": [],
   "source": [
    "transformer = Normalizer().fit(X_train)\n",
    "norm_X = transformer.transform(X_train)"
   ]
  },
  {
   "cell_type": "code",
   "execution_count": 254,
   "metadata": {},
   "outputs": [],
   "source": [
    "transformer = Normalizer().fit(X_test)\n",
    "norm_X_test = transformer.transform(X_test)"
   ]
  },
  {
   "cell_type": "code",
   "execution_count": 247,
   "metadata": {},
   "outputs": [],
   "source": [
    "KNN = KNeighborsClassifier()"
   ]
  },
  {
   "cell_type": "code",
   "execution_count": 248,
   "metadata": {},
   "outputs": [],
   "source": [
    "param_grid = {'n_neighbors': [3,5,7,9,11],\n",
    "              'weights': ['uniform', 'distance'],\n",
    "              'leaf_size': [30, 45, 60, 75]}"
   ]
  },
  {
   "cell_type": "code",
   "execution_count": 249,
   "metadata": {},
   "outputs": [],
   "source": [
    "GS = GridSearchCV(KNN, param_grid, cv=5, verbose=3)"
   ]
  },
  {
   "cell_type": "code",
   "execution_count": 250,
   "metadata": {},
   "outputs": [
    {
     "name": "stdout",
     "output_type": "stream",
     "text": [
      "Fitting 5 folds for each of 40 candidates, totalling 200 fits\n",
      "[CV] leaf_size=30, n_neighbors=3, weights=uniform ....................\n",
      "[CV]  leaf_size=30, n_neighbors=3, weights=uniform, score=0.573, total=   0.1s\n",
      "[CV] leaf_size=30, n_neighbors=3, weights=uniform ....................\n",
      "[CV]  leaf_size=30, n_neighbors=3, weights=uniform, score=0.605, total=   0.0s\n",
      "[CV] leaf_size=30, n_neighbors=3, weights=uniform ....................\n"
     ]
    },
    {
     "name": "stderr",
     "output_type": "stream",
     "text": [
      "[Parallel(n_jobs=1)]: Using backend SequentialBackend with 1 concurrent workers.\n",
      "[Parallel(n_jobs=1)]: Done   1 out of   1 | elapsed:    0.1s remaining:    0.0s\n",
      "[Parallel(n_jobs=1)]: Done   2 out of   2 | elapsed:    0.2s remaining:    0.0s\n"
     ]
    },
    {
     "name": "stdout",
     "output_type": "stream",
     "text": [
      "[CV]  leaf_size=30, n_neighbors=3, weights=uniform, score=0.596, total=   0.0s\n",
      "[CV] leaf_size=30, n_neighbors=3, weights=uniform ....................\n",
      "[CV]  leaf_size=30, n_neighbors=3, weights=uniform, score=0.580, total=   0.0s\n",
      "[CV] leaf_size=30, n_neighbors=3, weights=uniform ....................\n",
      "[CV]  leaf_size=30, n_neighbors=3, weights=uniform, score=0.571, total=   0.0s\n",
      "[CV] leaf_size=30, n_neighbors=3, weights=distance ...................\n",
      "[CV]  leaf_size=30, n_neighbors=3, weights=distance, score=0.614, total=   0.0s\n",
      "[CV] leaf_size=30, n_neighbors=3, weights=distance ...................\n",
      "[CV]  leaf_size=30, n_neighbors=3, weights=distance, score=0.617, total=   0.0s\n",
      "[CV] leaf_size=30, n_neighbors=3, weights=distance ...................\n",
      "[CV]  leaf_size=30, n_neighbors=3, weights=distance, score=0.611, total=   0.0s\n",
      "[CV] leaf_size=30, n_neighbors=3, weights=distance ...................\n",
      "[CV]  leaf_size=30, n_neighbors=3, weights=distance, score=0.619, total=   0.0s\n",
      "[CV] leaf_size=30, n_neighbors=3, weights=distance ...................\n",
      "[CV]  leaf_size=30, n_neighbors=3, weights=distance, score=0.625, total=   0.0s\n",
      "[CV] leaf_size=30, n_neighbors=5, weights=uniform ....................\n",
      "[CV]  leaf_size=30, n_neighbors=5, weights=uniform, score=0.596, total=   0.0s\n",
      "[CV] leaf_size=30, n_neighbors=5, weights=uniform ....................\n",
      "[CV]  leaf_size=30, n_neighbors=5, weights=uniform, score=0.608, total=   0.0s\n",
      "[CV] leaf_size=30, n_neighbors=5, weights=uniform ....................\n",
      "[CV]  leaf_size=30, n_neighbors=5, weights=uniform, score=0.611, total=   0.0s\n",
      "[CV] leaf_size=30, n_neighbors=5, weights=uniform ....................\n",
      "[CV]  leaf_size=30, n_neighbors=5, weights=uniform, score=0.553, total=   0.0s\n",
      "[CV] leaf_size=30, n_neighbors=5, weights=uniform ....................\n",
      "[CV]  leaf_size=30, n_neighbors=5, weights=uniform, score=0.568, total=   0.0s\n",
      "[CV] leaf_size=30, n_neighbors=5, weights=distance ...................\n",
      "[CV]  leaf_size=30, n_neighbors=5, weights=distance, score=0.608, total=   0.0s\n",
      "[CV] leaf_size=30, n_neighbors=5, weights=distance ...................\n",
      "[CV]  leaf_size=30, n_neighbors=5, weights=distance, score=0.635, total=   0.0s\n",
      "[CV] leaf_size=30, n_neighbors=5, weights=distance ...................\n",
      "[CV]  leaf_size=30, n_neighbors=5, weights=distance, score=0.614, total=   0.0s\n",
      "[CV] leaf_size=30, n_neighbors=5, weights=distance ...................\n",
      "[CV]  leaf_size=30, n_neighbors=5, weights=distance, score=0.586, total=   0.0s\n",
      "[CV] leaf_size=30, n_neighbors=5, weights=distance ...................\n",
      "[CV]  leaf_size=30, n_neighbors=5, weights=distance, score=0.607, total=   0.0s\n",
      "[CV] leaf_size=30, n_neighbors=7, weights=uniform ....................\n",
      "[CV]  leaf_size=30, n_neighbors=7, weights=uniform, score=0.573, total=   0.0s\n",
      "[CV] leaf_size=30, n_neighbors=7, weights=uniform ....................\n",
      "[CV]  leaf_size=30, n_neighbors=7, weights=uniform, score=0.591, total=   0.0s\n",
      "[CV] leaf_size=30, n_neighbors=7, weights=uniform ....................\n",
      "[CV]  leaf_size=30, n_neighbors=7, weights=uniform, score=0.585, total=   0.1s\n",
      "[CV] leaf_size=30, n_neighbors=7, weights=uniform ....................\n",
      "[CV]  leaf_size=30, n_neighbors=7, weights=uniform, score=0.526, total=   0.1s\n",
      "[CV] leaf_size=30, n_neighbors=7, weights=uniform ....................\n",
      "[CV]  leaf_size=30, n_neighbors=7, weights=uniform, score=0.544, total=   0.1s\n",
      "[CV] leaf_size=30, n_neighbors=7, weights=distance ...................\n",
      "[CV]  leaf_size=30, n_neighbors=7, weights=distance, score=0.617, total=   0.1s\n",
      "[CV] leaf_size=30, n_neighbors=7, weights=distance ...................\n",
      "[CV]  leaf_size=30, n_neighbors=7, weights=distance, score=0.611, total=   0.0s\n",
      "[CV] leaf_size=30, n_neighbors=7, weights=distance ...................\n",
      "[CV]  leaf_size=30, n_neighbors=7, weights=distance, score=0.611, total=   0.0s\n",
      "[CV] leaf_size=30, n_neighbors=7, weights=distance ...................\n",
      "[CV]  leaf_size=30, n_neighbors=7, weights=distance, score=0.583, total=   0.0s\n",
      "[CV] leaf_size=30, n_neighbors=7, weights=distance ...................\n",
      "[CV]  leaf_size=30, n_neighbors=7, weights=distance, score=0.598, total=   0.0s\n",
      "[CV] leaf_size=30, n_neighbors=9, weights=uniform ....................\n",
      "[CV]  leaf_size=30, n_neighbors=9, weights=uniform, score=0.576, total=   0.1s\n",
      "[CV] leaf_size=30, n_neighbors=9, weights=uniform ....................\n",
      "[CV]  leaf_size=30, n_neighbors=9, weights=uniform, score=0.614, total=   0.1s\n",
      "[CV] leaf_size=30, n_neighbors=9, weights=uniform ....................\n",
      "[CV]  leaf_size=30, n_neighbors=9, weights=uniform, score=0.576, total=   0.1s\n",
      "[CV] leaf_size=30, n_neighbors=9, weights=uniform ....................\n",
      "[CV]  leaf_size=30, n_neighbors=9, weights=uniform, score=0.562, total=   0.1s\n",
      "[CV] leaf_size=30, n_neighbors=9, weights=uniform ....................\n",
      "[CV]  leaf_size=30, n_neighbors=9, weights=uniform, score=0.574, total=   0.1s\n",
      "[CV] leaf_size=30, n_neighbors=9, weights=distance ...................\n",
      "[CV]  leaf_size=30, n_neighbors=9, weights=distance, score=0.596, total=   0.0s\n",
      "[CV] leaf_size=30, n_neighbors=9, weights=distance ...................\n",
      "[CV]  leaf_size=30, n_neighbors=9, weights=distance, score=0.617, total=   0.1s\n",
      "[CV] leaf_size=30, n_neighbors=9, weights=distance ...................\n",
      "[CV]  leaf_size=30, n_neighbors=9, weights=distance, score=0.605, total=   0.0s\n",
      "[CV] leaf_size=30, n_neighbors=9, weights=distance ...................\n",
      "[CV]  leaf_size=30, n_neighbors=9, weights=distance, score=0.601, total=   0.0s\n",
      "[CV] leaf_size=30, n_neighbors=9, weights=distance ...................\n",
      "[CV]  leaf_size=30, n_neighbors=9, weights=distance, score=0.595, total=   0.0s\n",
      "[CV] leaf_size=30, n_neighbors=11, weights=uniform ...................\n",
      "[CV]  leaf_size=30, n_neighbors=11, weights=uniform, score=0.561, total=   0.0s\n",
      "[CV] leaf_size=30, n_neighbors=11, weights=uniform ...................\n",
      "[CV]  leaf_size=30, n_neighbors=11, weights=uniform, score=0.602, total=   0.1s\n",
      "[CV] leaf_size=30, n_neighbors=11, weights=uniform ...................\n",
      "[CV]  leaf_size=30, n_neighbors=11, weights=uniform, score=0.567, total=   0.0s\n",
      "[CV] leaf_size=30, n_neighbors=11, weights=uniform ...................\n",
      "[CV]  leaf_size=30, n_neighbors=11, weights=uniform, score=0.550, total=   0.1s\n",
      "[CV] leaf_size=30, n_neighbors=11, weights=uniform ...................\n",
      "[CV]  leaf_size=30, n_neighbors=11, weights=uniform, score=0.556, total=   0.0s\n",
      "[CV] leaf_size=30, n_neighbors=11, weights=distance ..................\n",
      "[CV]  leaf_size=30, n_neighbors=11, weights=distance, score=0.617, total=   0.0s\n",
      "[CV] leaf_size=30, n_neighbors=11, weights=distance ..................\n",
      "[CV]  leaf_size=30, n_neighbors=11, weights=distance, score=0.623, total=   0.0s\n",
      "[CV] leaf_size=30, n_neighbors=11, weights=distance ..................\n",
      "[CV]  leaf_size=30, n_neighbors=11, weights=distance, score=0.576, total=   0.0s\n",
      "[CV] leaf_size=30, n_neighbors=11, weights=distance ..................\n",
      "[CV]  leaf_size=30, n_neighbors=11, weights=distance, score=0.592, total=   0.0s\n",
      "[CV] leaf_size=30, n_neighbors=11, weights=distance ..................\n",
      "[CV]  leaf_size=30, n_neighbors=11, weights=distance, score=0.583, total=   0.0s\n",
      "[CV] leaf_size=45, n_neighbors=3, weights=uniform ....................\n",
      "[CV]  leaf_size=45, n_neighbors=3, weights=uniform, score=0.576, total=   0.0s\n",
      "[CV] leaf_size=45, n_neighbors=3, weights=uniform ....................\n",
      "[CV]  leaf_size=45, n_neighbors=3, weights=uniform, score=0.605, total=   0.0s\n",
      "[CV] leaf_size=45, n_neighbors=3, weights=uniform ....................\n",
      "[CV]  leaf_size=45, n_neighbors=3, weights=uniform, score=0.596, total=   0.0s\n",
      "[CV] leaf_size=45, n_neighbors=3, weights=uniform ....................\n",
      "[CV]  leaf_size=45, n_neighbors=3, weights=uniform, score=0.580, total=   0.0s\n",
      "[CV] leaf_size=45, n_neighbors=3, weights=uniform ....................\n",
      "[CV]  leaf_size=45, n_neighbors=3, weights=uniform, score=0.568, total=   0.0s\n",
      "[CV] leaf_size=45, n_neighbors=3, weights=distance ...................\n",
      "[CV]  leaf_size=45, n_neighbors=3, weights=distance, score=0.617, total=   0.0s\n",
      "[CV] leaf_size=45, n_neighbors=3, weights=distance ...................\n",
      "[CV]  leaf_size=45, n_neighbors=3, weights=distance, score=0.617, total=   0.0s\n",
      "[CV] leaf_size=45, n_neighbors=3, weights=distance ...................\n",
      "[CV]  leaf_size=45, n_neighbors=3, weights=distance, score=0.611, total=   0.0s\n",
      "[CV] leaf_size=45, n_neighbors=3, weights=distance ...................\n",
      "[CV]  leaf_size=45, n_neighbors=3, weights=distance, score=0.619, total=   0.0s\n",
      "[CV] leaf_size=45, n_neighbors=3, weights=distance ...................\n",
      "[CV]  leaf_size=45, n_neighbors=3, weights=distance, score=0.625, total=   0.0s\n",
      "[CV] leaf_size=45, n_neighbors=5, weights=uniform ....................\n",
      "[CV]  leaf_size=45, n_neighbors=5, weights=uniform, score=0.596, total=   0.0s\n",
      "[CV] leaf_size=45, n_neighbors=5, weights=uniform ....................\n"
     ]
    },
    {
     "name": "stdout",
     "output_type": "stream",
     "text": [
      "[CV]  leaf_size=45, n_neighbors=5, weights=uniform, score=0.611, total=   0.0s\n",
      "[CV] leaf_size=45, n_neighbors=5, weights=uniform ....................\n",
      "[CV]  leaf_size=45, n_neighbors=5, weights=uniform, score=0.605, total=   0.1s\n",
      "[CV] leaf_size=45, n_neighbors=5, weights=uniform ....................\n",
      "[CV]  leaf_size=45, n_neighbors=5, weights=uniform, score=0.553, total=   0.1s\n",
      "[CV] leaf_size=45, n_neighbors=5, weights=uniform ....................\n",
      "[CV]  leaf_size=45, n_neighbors=5, weights=uniform, score=0.568, total=   0.1s\n",
      "[CV] leaf_size=45, n_neighbors=5, weights=distance ...................\n",
      "[CV]  leaf_size=45, n_neighbors=5, weights=distance, score=0.608, total=   0.0s\n",
      "[CV] leaf_size=45, n_neighbors=5, weights=distance ...................\n",
      "[CV]  leaf_size=45, n_neighbors=5, weights=distance, score=0.635, total=   0.0s\n",
      "[CV] leaf_size=45, n_neighbors=5, weights=distance ...................\n",
      "[CV]  leaf_size=45, n_neighbors=5, weights=distance, score=0.614, total=   0.0s\n",
      "[CV] leaf_size=45, n_neighbors=5, weights=distance ...................\n",
      "[CV]  leaf_size=45, n_neighbors=5, weights=distance, score=0.586, total=   0.0s\n",
      "[CV] leaf_size=45, n_neighbors=5, weights=distance ...................\n",
      "[CV]  leaf_size=45, n_neighbors=5, weights=distance, score=0.607, total=   0.0s\n",
      "[CV] leaf_size=45, n_neighbors=7, weights=uniform ....................\n",
      "[CV]  leaf_size=45, n_neighbors=7, weights=uniform, score=0.573, total=   0.1s\n",
      "[CV] leaf_size=45, n_neighbors=7, weights=uniform ....................\n",
      "[CV]  leaf_size=45, n_neighbors=7, weights=uniform, score=0.591, total=   0.1s\n",
      "[CV] leaf_size=45, n_neighbors=7, weights=uniform ....................\n",
      "[CV]  leaf_size=45, n_neighbors=7, weights=uniform, score=0.591, total=   0.1s\n",
      "[CV] leaf_size=45, n_neighbors=7, weights=uniform ....................\n",
      "[CV]  leaf_size=45, n_neighbors=7, weights=uniform, score=0.526, total=   0.1s\n",
      "[CV] leaf_size=45, n_neighbors=7, weights=uniform ....................\n",
      "[CV]  leaf_size=45, n_neighbors=7, weights=uniform, score=0.544, total=   0.1s\n",
      "[CV] leaf_size=45, n_neighbors=7, weights=distance ...................\n",
      "[CV]  leaf_size=45, n_neighbors=7, weights=distance, score=0.617, total=   0.0s\n",
      "[CV] leaf_size=45, n_neighbors=7, weights=distance ...................\n",
      "[CV]  leaf_size=45, n_neighbors=7, weights=distance, score=0.611, total=   0.0s\n",
      "[CV] leaf_size=45, n_neighbors=7, weights=distance ...................\n",
      "[CV]  leaf_size=45, n_neighbors=7, weights=distance, score=0.611, total=   0.0s\n",
      "[CV] leaf_size=45, n_neighbors=7, weights=distance ...................\n",
      "[CV]  leaf_size=45, n_neighbors=7, weights=distance, score=0.583, total=   0.0s\n",
      "[CV] leaf_size=45, n_neighbors=7, weights=distance ...................\n",
      "[CV]  leaf_size=45, n_neighbors=7, weights=distance, score=0.598, total=   0.0s\n",
      "[CV] leaf_size=45, n_neighbors=9, weights=uniform ....................\n",
      "[CV]  leaf_size=45, n_neighbors=9, weights=uniform, score=0.576, total=   0.1s\n",
      "[CV] leaf_size=45, n_neighbors=9, weights=uniform ....................\n",
      "[CV]  leaf_size=45, n_neighbors=9, weights=uniform, score=0.614, total=   0.1s\n",
      "[CV] leaf_size=45, n_neighbors=9, weights=uniform ....................\n",
      "[CV]  leaf_size=45, n_neighbors=9, weights=uniform, score=0.576, total=   0.1s\n",
      "[CV] leaf_size=45, n_neighbors=9, weights=uniform ....................\n",
      "[CV]  leaf_size=45, n_neighbors=9, weights=uniform, score=0.562, total=   0.1s\n",
      "[CV] leaf_size=45, n_neighbors=9, weights=uniform ....................\n",
      "[CV]  leaf_size=45, n_neighbors=9, weights=uniform, score=0.574, total=   0.1s\n",
      "[CV] leaf_size=45, n_neighbors=9, weights=distance ...................\n",
      "[CV]  leaf_size=45, n_neighbors=9, weights=distance, score=0.596, total=   0.0s\n",
      "[CV] leaf_size=45, n_neighbors=9, weights=distance ...................\n",
      "[CV]  leaf_size=45, n_neighbors=9, weights=distance, score=0.617, total=   0.0s\n",
      "[CV] leaf_size=45, n_neighbors=9, weights=distance ...................\n",
      "[CV]  leaf_size=45, n_neighbors=9, weights=distance, score=0.602, total=   0.0s\n",
      "[CV] leaf_size=45, n_neighbors=9, weights=distance ...................\n",
      "[CV]  leaf_size=45, n_neighbors=9, weights=distance, score=0.601, total=   0.0s\n",
      "[CV] leaf_size=45, n_neighbors=9, weights=distance ...................\n",
      "[CV]  leaf_size=45, n_neighbors=9, weights=distance, score=0.595, total=   0.0s\n",
      "[CV] leaf_size=45, n_neighbors=11, weights=uniform ...................\n",
      "[CV]  leaf_size=45, n_neighbors=11, weights=uniform, score=0.561, total=   0.1s\n",
      "[CV] leaf_size=45, n_neighbors=11, weights=uniform ...................\n",
      "[CV]  leaf_size=45, n_neighbors=11, weights=uniform, score=0.602, total=   0.1s\n",
      "[CV] leaf_size=45, n_neighbors=11, weights=uniform ...................\n",
      "[CV]  leaf_size=45, n_neighbors=11, weights=uniform, score=0.570, total=   0.1s\n",
      "[CV] leaf_size=45, n_neighbors=11, weights=uniform ...................\n",
      "[CV]  leaf_size=45, n_neighbors=11, weights=uniform, score=0.550, total=   0.1s\n",
      "[CV] leaf_size=45, n_neighbors=11, weights=uniform ...................\n",
      "[CV]  leaf_size=45, n_neighbors=11, weights=uniform, score=0.556, total=   0.1s\n",
      "[CV] leaf_size=45, n_neighbors=11, weights=distance ..................\n",
      "[CV]  leaf_size=45, n_neighbors=11, weights=distance, score=0.617, total=   0.0s\n",
      "[CV] leaf_size=45, n_neighbors=11, weights=distance ..................\n",
      "[CV]  leaf_size=45, n_neighbors=11, weights=distance, score=0.623, total=   0.0s\n",
      "[CV] leaf_size=45, n_neighbors=11, weights=distance ..................\n",
      "[CV]  leaf_size=45, n_neighbors=11, weights=distance, score=0.579, total=   0.0s\n",
      "[CV] leaf_size=45, n_neighbors=11, weights=distance ..................\n",
      "[CV]  leaf_size=45, n_neighbors=11, weights=distance, score=0.592, total=   0.0s\n",
      "[CV] leaf_size=45, n_neighbors=11, weights=distance ..................\n",
      "[CV]  leaf_size=45, n_neighbors=11, weights=distance, score=0.583, total=   0.0s\n",
      "[CV] leaf_size=60, n_neighbors=3, weights=uniform ....................\n",
      "[CV]  leaf_size=60, n_neighbors=3, weights=uniform, score=0.576, total=   0.0s\n",
      "[CV] leaf_size=60, n_neighbors=3, weights=uniform ....................\n",
      "[CV]  leaf_size=60, n_neighbors=3, weights=uniform, score=0.605, total=   0.0s\n",
      "[CV] leaf_size=60, n_neighbors=3, weights=uniform ....................\n",
      "[CV]  leaf_size=60, n_neighbors=3, weights=uniform, score=0.596, total=   0.0s\n",
      "[CV] leaf_size=60, n_neighbors=3, weights=uniform ....................\n",
      "[CV]  leaf_size=60, n_neighbors=3, weights=uniform, score=0.580, total=   0.0s\n",
      "[CV] leaf_size=60, n_neighbors=3, weights=uniform ....................\n",
      "[CV]  leaf_size=60, n_neighbors=3, weights=uniform, score=0.568, total=   0.0s\n",
      "[CV] leaf_size=60, n_neighbors=3, weights=distance ...................\n",
      "[CV]  leaf_size=60, n_neighbors=3, weights=distance, score=0.617, total=   0.0s\n",
      "[CV] leaf_size=60, n_neighbors=3, weights=distance ...................\n",
      "[CV]  leaf_size=60, n_neighbors=3, weights=distance, score=0.617, total=   0.0s\n",
      "[CV] leaf_size=60, n_neighbors=3, weights=distance ...................\n",
      "[CV]  leaf_size=60, n_neighbors=3, weights=distance, score=0.611, total=   0.0s\n",
      "[CV] leaf_size=60, n_neighbors=3, weights=distance ...................\n",
      "[CV]  leaf_size=60, n_neighbors=3, weights=distance, score=0.619, total=   0.0s\n",
      "[CV] leaf_size=60, n_neighbors=3, weights=distance ...................\n",
      "[CV]  leaf_size=60, n_neighbors=3, weights=distance, score=0.625, total=   0.0s\n",
      "[CV] leaf_size=60, n_neighbors=5, weights=uniform ....................\n",
      "[CV]  leaf_size=60, n_neighbors=5, weights=uniform, score=0.596, total=   0.1s\n",
      "[CV] leaf_size=60, n_neighbors=5, weights=uniform ....................\n",
      "[CV]  leaf_size=60, n_neighbors=5, weights=uniform, score=0.611, total=   0.1s\n",
      "[CV] leaf_size=60, n_neighbors=5, weights=uniform ....................\n",
      "[CV]  leaf_size=60, n_neighbors=5, weights=uniform, score=0.605, total=   0.1s\n",
      "[CV] leaf_size=60, n_neighbors=5, weights=uniform ....................\n",
      "[CV]  leaf_size=60, n_neighbors=5, weights=uniform, score=0.553, total=   0.0s\n",
      "[CV] leaf_size=60, n_neighbors=5, weights=uniform ....................\n",
      "[CV]  leaf_size=60, n_neighbors=5, weights=uniform, score=0.568, total=   0.0s\n",
      "[CV] leaf_size=60, n_neighbors=5, weights=distance ...................\n",
      "[CV]  leaf_size=60, n_neighbors=5, weights=distance, score=0.608, total=   0.0s\n",
      "[CV] leaf_size=60, n_neighbors=5, weights=distance ...................\n"
     ]
    },
    {
     "name": "stdout",
     "output_type": "stream",
     "text": [
      "[CV]  leaf_size=60, n_neighbors=5, weights=distance, score=0.635, total=   0.0s\n",
      "[CV] leaf_size=60, n_neighbors=5, weights=distance ...................\n",
      "[CV]  leaf_size=60, n_neighbors=5, weights=distance, score=0.614, total=   0.0s\n",
      "[CV] leaf_size=60, n_neighbors=5, weights=distance ...................\n",
      "[CV]  leaf_size=60, n_neighbors=5, weights=distance, score=0.586, total=   0.0s\n",
      "[CV] leaf_size=60, n_neighbors=5, weights=distance ...................\n",
      "[CV]  leaf_size=60, n_neighbors=5, weights=distance, score=0.607, total=   0.0s\n",
      "[CV] leaf_size=60, n_neighbors=7, weights=uniform ....................\n",
      "[CV]  leaf_size=60, n_neighbors=7, weights=uniform, score=0.573, total=   0.1s\n",
      "[CV] leaf_size=60, n_neighbors=7, weights=uniform ....................\n",
      "[CV]  leaf_size=60, n_neighbors=7, weights=uniform, score=0.591, total=   0.1s\n",
      "[CV] leaf_size=60, n_neighbors=7, weights=uniform ....................\n",
      "[CV]  leaf_size=60, n_neighbors=7, weights=uniform, score=0.591, total=   0.0s\n",
      "[CV] leaf_size=60, n_neighbors=7, weights=uniform ....................\n",
      "[CV]  leaf_size=60, n_neighbors=7, weights=uniform, score=0.526, total=   0.1s\n",
      "[CV] leaf_size=60, n_neighbors=7, weights=uniform ....................\n",
      "[CV]  leaf_size=60, n_neighbors=7, weights=uniform, score=0.544, total=   0.1s\n",
      "[CV] leaf_size=60, n_neighbors=7, weights=distance ...................\n",
      "[CV]  leaf_size=60, n_neighbors=7, weights=distance, score=0.617, total=   0.0s\n",
      "[CV] leaf_size=60, n_neighbors=7, weights=distance ...................\n",
      "[CV]  leaf_size=60, n_neighbors=7, weights=distance, score=0.611, total=   0.0s\n",
      "[CV] leaf_size=60, n_neighbors=7, weights=distance ...................\n",
      "[CV]  leaf_size=60, n_neighbors=7, weights=distance, score=0.611, total=   0.0s\n",
      "[CV] leaf_size=60, n_neighbors=7, weights=distance ...................\n",
      "[CV]  leaf_size=60, n_neighbors=7, weights=distance, score=0.583, total=   0.0s\n",
      "[CV] leaf_size=60, n_neighbors=7, weights=distance ...................\n",
      "[CV]  leaf_size=60, n_neighbors=7, weights=distance, score=0.598, total=   0.0s\n",
      "[CV] leaf_size=60, n_neighbors=9, weights=uniform ....................\n",
      "[CV]  leaf_size=60, n_neighbors=9, weights=uniform, score=0.576, total=   0.1s\n",
      "[CV] leaf_size=60, n_neighbors=9, weights=uniform ....................\n",
      "[CV]  leaf_size=60, n_neighbors=9, weights=uniform, score=0.614, total=   0.1s\n",
      "[CV] leaf_size=60, n_neighbors=9, weights=uniform ....................\n",
      "[CV]  leaf_size=60, n_neighbors=9, weights=uniform, score=0.576, total=   0.0s\n",
      "[CV] leaf_size=60, n_neighbors=9, weights=uniform ....................\n",
      "[CV]  leaf_size=60, n_neighbors=9, weights=uniform, score=0.562, total=   0.0s\n",
      "[CV] leaf_size=60, n_neighbors=9, weights=uniform ....................\n",
      "[CV]  leaf_size=60, n_neighbors=9, weights=uniform, score=0.574, total=   0.0s\n",
      "[CV] leaf_size=60, n_neighbors=9, weights=distance ...................\n",
      "[CV]  leaf_size=60, n_neighbors=9, weights=distance, score=0.596, total=   0.0s\n",
      "[CV] leaf_size=60, n_neighbors=9, weights=distance ...................\n",
      "[CV]  leaf_size=60, n_neighbors=9, weights=distance, score=0.617, total=   0.0s\n",
      "[CV] leaf_size=60, n_neighbors=9, weights=distance ...................\n",
      "[CV]  leaf_size=60, n_neighbors=9, weights=distance, score=0.602, total=   0.0s\n",
      "[CV] leaf_size=60, n_neighbors=9, weights=distance ...................\n",
      "[CV]  leaf_size=60, n_neighbors=9, weights=distance, score=0.601, total=   0.1s\n",
      "[CV] leaf_size=60, n_neighbors=9, weights=distance ...................\n",
      "[CV]  leaf_size=60, n_neighbors=9, weights=distance, score=0.595, total=   0.0s\n",
      "[CV] leaf_size=60, n_neighbors=11, weights=uniform ...................\n",
      "[CV]  leaf_size=60, n_neighbors=11, weights=uniform, score=0.561, total=   0.1s\n",
      "[CV] leaf_size=60, n_neighbors=11, weights=uniform ...................\n",
      "[CV]  leaf_size=60, n_neighbors=11, weights=uniform, score=0.602, total=   0.1s\n",
      "[CV] leaf_size=60, n_neighbors=11, weights=uniform ...................\n",
      "[CV]  leaf_size=60, n_neighbors=11, weights=uniform, score=0.570, total=   0.1s\n",
      "[CV] leaf_size=60, n_neighbors=11, weights=uniform ...................\n",
      "[CV]  leaf_size=60, n_neighbors=11, weights=uniform, score=0.550, total=   0.1s\n",
      "[CV] leaf_size=60, n_neighbors=11, weights=uniform ...................\n",
      "[CV]  leaf_size=60, n_neighbors=11, weights=uniform, score=0.556, total=   0.1s\n",
      "[CV] leaf_size=60, n_neighbors=11, weights=distance ..................\n",
      "[CV]  leaf_size=60, n_neighbors=11, weights=distance, score=0.617, total=   0.0s\n",
      "[CV] leaf_size=60, n_neighbors=11, weights=distance ..................\n",
      "[CV]  leaf_size=60, n_neighbors=11, weights=distance, score=0.623, total=   0.0s\n",
      "[CV] leaf_size=60, n_neighbors=11, weights=distance ..................\n",
      "[CV]  leaf_size=60, n_neighbors=11, weights=distance, score=0.579, total=   0.0s\n",
      "[CV] leaf_size=60, n_neighbors=11, weights=distance ..................\n",
      "[CV]  leaf_size=60, n_neighbors=11, weights=distance, score=0.592, total=   0.0s\n",
      "[CV] leaf_size=60, n_neighbors=11, weights=distance ..................\n",
      "[CV]  leaf_size=60, n_neighbors=11, weights=distance, score=0.583, total=   0.0s\n",
      "[CV] leaf_size=75, n_neighbors=3, weights=uniform ....................\n",
      "[CV]  leaf_size=75, n_neighbors=3, weights=uniform, score=0.576, total=   0.0s\n",
      "[CV] leaf_size=75, n_neighbors=3, weights=uniform ....................\n",
      "[CV]  leaf_size=75, n_neighbors=3, weights=uniform, score=0.605, total=   0.0s\n",
      "[CV] leaf_size=75, n_neighbors=3, weights=uniform ....................\n",
      "[CV]  leaf_size=75, n_neighbors=3, weights=uniform, score=0.596, total=   0.0s\n",
      "[CV] leaf_size=75, n_neighbors=3, weights=uniform ....................\n",
      "[CV]  leaf_size=75, n_neighbors=3, weights=uniform, score=0.580, total=   0.0s\n",
      "[CV] leaf_size=75, n_neighbors=3, weights=uniform ....................\n",
      "[CV]  leaf_size=75, n_neighbors=3, weights=uniform, score=0.568, total=   0.0s\n",
      "[CV] leaf_size=75, n_neighbors=3, weights=distance ...................\n",
      "[CV]  leaf_size=75, n_neighbors=3, weights=distance, score=0.617, total=   0.0s\n",
      "[CV] leaf_size=75, n_neighbors=3, weights=distance ...................\n",
      "[CV]  leaf_size=75, n_neighbors=3, weights=distance, score=0.617, total=   0.0s\n",
      "[CV] leaf_size=75, n_neighbors=3, weights=distance ...................\n",
      "[CV]  leaf_size=75, n_neighbors=3, weights=distance, score=0.611, total=   0.0s\n",
      "[CV] leaf_size=75, n_neighbors=3, weights=distance ...................\n",
      "[CV]  leaf_size=75, n_neighbors=3, weights=distance, score=0.619, total=   0.0s\n",
      "[CV] leaf_size=75, n_neighbors=3, weights=distance ...................\n",
      "[CV]  leaf_size=75, n_neighbors=3, weights=distance, score=0.625, total=   0.0s\n",
      "[CV] leaf_size=75, n_neighbors=5, weights=uniform ....................\n",
      "[CV]  leaf_size=75, n_neighbors=5, weights=uniform, score=0.596, total=   0.1s\n",
      "[CV] leaf_size=75, n_neighbors=5, weights=uniform ....................\n",
      "[CV]  leaf_size=75, n_neighbors=5, weights=uniform, score=0.611, total=   0.0s\n",
      "[CV] leaf_size=75, n_neighbors=5, weights=uniform ....................\n",
      "[CV]  leaf_size=75, n_neighbors=5, weights=uniform, score=0.605, total=   0.1s\n",
      "[CV] leaf_size=75, n_neighbors=5, weights=uniform ....................\n",
      "[CV]  leaf_size=75, n_neighbors=5, weights=uniform, score=0.553, total=   0.0s\n",
      "[CV] leaf_size=75, n_neighbors=5, weights=uniform ....................\n",
      "[CV]  leaf_size=75, n_neighbors=5, weights=uniform, score=0.568, total=   0.0s\n",
      "[CV] leaf_size=75, n_neighbors=5, weights=distance ...................\n",
      "[CV]  leaf_size=75, n_neighbors=5, weights=distance, score=0.608, total=   0.0s\n",
      "[CV] leaf_size=75, n_neighbors=5, weights=distance ...................\n",
      "[CV]  leaf_size=75, n_neighbors=5, weights=distance, score=0.635, total=   0.0s\n",
      "[CV] leaf_size=75, n_neighbors=5, weights=distance ...................\n",
      "[CV]  leaf_size=75, n_neighbors=5, weights=distance, score=0.614, total=   0.0s\n",
      "[CV] leaf_size=75, n_neighbors=5, weights=distance ...................\n",
      "[CV]  leaf_size=75, n_neighbors=5, weights=distance, score=0.586, total=   0.0s\n",
      "[CV] leaf_size=75, n_neighbors=5, weights=distance ...................\n",
      "[CV]  leaf_size=75, n_neighbors=5, weights=distance, score=0.607, total=   0.0s\n",
      "[CV] leaf_size=75, n_neighbors=7, weights=uniform ....................\n",
      "[CV]  leaf_size=75, n_neighbors=7, weights=uniform, score=0.573, total=   0.1s\n",
      "[CV] leaf_size=75, n_neighbors=7, weights=uniform ....................\n",
      "[CV]  leaf_size=75, n_neighbors=7, weights=uniform, score=0.591, total=   0.1s\n",
      "[CV] leaf_size=75, n_neighbors=7, weights=uniform ....................\n",
      "[CV]  leaf_size=75, n_neighbors=7, weights=uniform, score=0.591, total=   0.1s\n",
      "[CV] leaf_size=75, n_neighbors=7, weights=uniform ....................\n",
      "[CV]  leaf_size=75, n_neighbors=7, weights=uniform, score=0.526, total=   0.1s\n",
      "[CV] leaf_size=75, n_neighbors=7, weights=uniform ....................\n"
     ]
    },
    {
     "name": "stdout",
     "output_type": "stream",
     "text": [
      "[CV]  leaf_size=75, n_neighbors=7, weights=uniform, score=0.544, total=   0.1s\n",
      "[CV] leaf_size=75, n_neighbors=7, weights=distance ...................\n",
      "[CV]  leaf_size=75, n_neighbors=7, weights=distance, score=0.617, total=   0.0s\n",
      "[CV] leaf_size=75, n_neighbors=7, weights=distance ...................\n",
      "[CV]  leaf_size=75, n_neighbors=7, weights=distance, score=0.611, total=   0.0s\n",
      "[CV] leaf_size=75, n_neighbors=7, weights=distance ...................\n",
      "[CV]  leaf_size=75, n_neighbors=7, weights=distance, score=0.611, total=   0.0s\n",
      "[CV] leaf_size=75, n_neighbors=7, weights=distance ...................\n",
      "[CV]  leaf_size=75, n_neighbors=7, weights=distance, score=0.583, total=   0.0s\n",
      "[CV] leaf_size=75, n_neighbors=7, weights=distance ...................\n",
      "[CV]  leaf_size=75, n_neighbors=7, weights=distance, score=0.598, total=   0.0s\n",
      "[CV] leaf_size=75, n_neighbors=9, weights=uniform ....................\n",
      "[CV]  leaf_size=75, n_neighbors=9, weights=uniform, score=0.576, total=   0.1s\n",
      "[CV] leaf_size=75, n_neighbors=9, weights=uniform ....................\n",
      "[CV]  leaf_size=75, n_neighbors=9, weights=uniform, score=0.614, total=   0.1s\n",
      "[CV] leaf_size=75, n_neighbors=9, weights=uniform ....................\n",
      "[CV]  leaf_size=75, n_neighbors=9, weights=uniform, score=0.576, total=   0.1s\n",
      "[CV] leaf_size=75, n_neighbors=9, weights=uniform ....................\n",
      "[CV]  leaf_size=75, n_neighbors=9, weights=uniform, score=0.562, total=   0.1s\n",
      "[CV] leaf_size=75, n_neighbors=9, weights=uniform ....................\n",
      "[CV]  leaf_size=75, n_neighbors=9, weights=uniform, score=0.574, total=   0.1s\n",
      "[CV] leaf_size=75, n_neighbors=9, weights=distance ...................\n",
      "[CV]  leaf_size=75, n_neighbors=9, weights=distance, score=0.596, total=   0.1s\n",
      "[CV] leaf_size=75, n_neighbors=9, weights=distance ...................\n",
      "[CV]  leaf_size=75, n_neighbors=9, weights=distance, score=0.617, total=   0.1s\n",
      "[CV] leaf_size=75, n_neighbors=9, weights=distance ...................\n",
      "[CV]  leaf_size=75, n_neighbors=9, weights=distance, score=0.602, total=   0.1s\n",
      "[CV] leaf_size=75, n_neighbors=9, weights=distance ...................\n",
      "[CV]  leaf_size=75, n_neighbors=9, weights=distance, score=0.601, total=   0.1s\n",
      "[CV] leaf_size=75, n_neighbors=9, weights=distance ...................\n",
      "[CV]  leaf_size=75, n_neighbors=9, weights=distance, score=0.595, total=   0.1s\n",
      "[CV] leaf_size=75, n_neighbors=11, weights=uniform ...................\n",
      "[CV]  leaf_size=75, n_neighbors=11, weights=uniform, score=0.561, total=   0.1s\n",
      "[CV] leaf_size=75, n_neighbors=11, weights=uniform ...................\n",
      "[CV]  leaf_size=75, n_neighbors=11, weights=uniform, score=0.602, total=   0.1s\n",
      "[CV] leaf_size=75, n_neighbors=11, weights=uniform ...................\n",
      "[CV]  leaf_size=75, n_neighbors=11, weights=uniform, score=0.570, total=   0.1s\n",
      "[CV] leaf_size=75, n_neighbors=11, weights=uniform ...................\n",
      "[CV]  leaf_size=75, n_neighbors=11, weights=uniform, score=0.550, total=   0.0s\n",
      "[CV] leaf_size=75, n_neighbors=11, weights=uniform ...................\n",
      "[CV]  leaf_size=75, n_neighbors=11, weights=uniform, score=0.556, total=   0.0s\n",
      "[CV] leaf_size=75, n_neighbors=11, weights=distance ..................\n",
      "[CV]  leaf_size=75, n_neighbors=11, weights=distance, score=0.617, total=   0.0s\n",
      "[CV] leaf_size=75, n_neighbors=11, weights=distance ..................\n",
      "[CV]  leaf_size=75, n_neighbors=11, weights=distance, score=0.623, total=   0.1s\n",
      "[CV] leaf_size=75, n_neighbors=11, weights=distance ..................\n",
      "[CV]  leaf_size=75, n_neighbors=11, weights=distance, score=0.579, total=   0.0s\n",
      "[CV] leaf_size=75, n_neighbors=11, weights=distance ..................\n",
      "[CV]  leaf_size=75, n_neighbors=11, weights=distance, score=0.592, total=   0.0s\n",
      "[CV] leaf_size=75, n_neighbors=11, weights=distance ..................\n",
      "[CV]  leaf_size=75, n_neighbors=11, weights=distance, score=0.583, total=   0.0s\n"
     ]
    },
    {
     "name": "stderr",
     "output_type": "stream",
     "text": [
      "[Parallel(n_jobs=1)]: Done 200 out of 200 | elapsed:    9.8s finished\n"
     ]
    },
    {
     "data": {
      "text/plain": [
       "GridSearchCV(cv=5, error_score='raise-deprecating',\n",
       "             estimator=KNeighborsClassifier(algorithm='auto', leaf_size=30,\n",
       "                                            metric='minkowski',\n",
       "                                            metric_params=None, n_jobs=None,\n",
       "                                            n_neighbors=5, p=2,\n",
       "                                            weights='uniform'),\n",
       "             iid='warn', n_jobs=None,\n",
       "             param_grid={'leaf_size': [30, 45, 60, 75],\n",
       "                         'n_neighbors': [3, 5, 7, 9, 11],\n",
       "                         'weights': ['uniform', 'distance']},\n",
       "             pre_dispatch='2*n_jobs', refit=True, return_train_score=False,\n",
       "             scoring=None, verbose=3)"
      ]
     },
     "execution_count": 250,
     "metadata": {},
     "output_type": "execute_result"
    }
   ],
   "source": [
    "GS.fit(norm_X, y_train)"
   ]
  },
  {
   "cell_type": "code",
   "execution_count": 251,
   "metadata": {},
   "outputs": [
    {
     "data": {
      "text/plain": [
       "{'leaf_size': 45, 'n_neighbors': 3, 'weights': 'distance'}"
      ]
     },
     "execution_count": 251,
     "metadata": {},
     "output_type": "execute_result"
    }
   ],
   "source": [
    "GS.best_params_"
   ]
  },
  {
   "cell_type": "code",
   "execution_count": 252,
   "metadata": {},
   "outputs": [],
   "source": [
    "KNN = KNeighborsClassifier(leaf_size=45, n_neighbors=3, weights='distance')"
   ]
  },
  {
   "cell_type": "code",
   "execution_count": 258,
   "metadata": {},
   "outputs": [
    {
     "data": {
      "text/plain": [
       "KNeighborsClassifier(algorithm='auto', leaf_size=45, metric='minkowski',\n",
       "                     metric_params=None, n_jobs=None, n_neighbors=3, p=2,\n",
       "                     weights='distance')"
      ]
     },
     "execution_count": 258,
     "metadata": {},
     "output_type": "execute_result"
    }
   ],
   "source": [
    "KNN.fit(norm_X, y_train)"
   ]
  },
  {
   "cell_type": "code",
   "execution_count": 259,
   "metadata": {},
   "outputs": [],
   "source": [
    "y_pred = KNN.predict(norm_X_test)"
   ]
  },
  {
   "cell_type": "code",
   "execution_count": 260,
   "metadata": {},
   "outputs": [
    {
     "data": {
      "text/plain": [
       "0.6216973369315215"
      ]
     },
     "execution_count": 260,
     "metadata": {},
     "output_type": "execute_result"
    }
   ],
   "source": [
    "f1_score(y_test, y_pred, labels=None, pos_label=1, average='weighted')"
   ]
  },
  {
   "cell_type": "markdown",
   "metadata": {},
   "source": [
    "### Using new df"
   ]
  },
  {
   "cell_type": "code",
   "execution_count": 262,
   "metadata": {},
   "outputs": [],
   "source": [
    "df = pd.read_csv('./data/df_final.csv', index_col=0)"
   ]
  },
  {
   "cell_type": "code",
   "execution_count": 265,
   "metadata": {},
   "outputs": [],
   "source": [
    "X = df.drop('label', axis=1)"
   ]
  },
  {
   "cell_type": "code",
   "execution_count": 266,
   "metadata": {},
   "outputs": [],
   "source": [
    "y = df.label"
   ]
  },
  {
   "cell_type": "code",
   "execution_count": 267,
   "metadata": {},
   "outputs": [],
   "source": [
    "X_train, X_test, y_train, y_test = train_test_split(X, y, test_size=0.25, random_state=42, stratify=y)"
   ]
  },
  {
   "cell_type": "code",
   "execution_count": 270,
   "metadata": {},
   "outputs": [],
   "source": [
    "RFC = RandomForestClassifier(n_jobs=-1)"
   ]
  },
  {
   "cell_type": "code",
   "execution_count": 269,
   "metadata": {},
   "outputs": [],
   "source": [
    "param_grid = {\n",
    "    'n_estimators': [500, 750],\n",
    "    'max_features': ['auto', 'sqrt', 'log2'],\n",
    "    'max_depth': [2, 4, 8, 16],\n",
    "    'min_samples_leaf': [2, 5, 10]\n",
    "}"
   ]
  },
  {
   "cell_type": "code",
   "execution_count": null,
   "metadata": {},
   "outputs": [],
   "source": [
    "GS = GridSearchCV(RFC, param_grid, cv=5)"
   ]
  }
 ],
 "metadata": {
  "kernelspec": {
   "display_name": "Python 3",
   "language": "python",
   "name": "python3"
  },
  "language_info": {
   "codemirror_mode": {
    "name": "ipython",
    "version": 3
   },
   "file_extension": ".py",
   "mimetype": "text/x-python",
   "name": "python",
   "nbconvert_exporter": "python",
   "pygments_lexer": "ipython3",
   "version": "3.7.3"
  }
 },
 "nbformat": 4,
 "nbformat_minor": 2
}
